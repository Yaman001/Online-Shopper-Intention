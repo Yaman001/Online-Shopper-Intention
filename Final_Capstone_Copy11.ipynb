{
 "cells": [
  {
   "cell_type": "markdown",
   "id": "fc0bdaea",
   "metadata": {},
   "source": [
    "# Online Shoppers Intention"
   ]
  },
  {
   "cell_type": "markdown",
   "id": "6806658a",
   "metadata": {},
   "source": [
    "### Problem Statement - \n",
    "In this project we aim to analyse shoppers intention or behaviour and \n",
    "determine to predict whether or not revenue will be generated from the given web analytics information of a customer."
   ]
  },
  {
   "cell_type": "markdown",
   "id": "5bfa96db",
   "metadata": {},
   "source": [
    "## Data Information :-\n",
    "\n",
    "1. \"Administrative\", \"Administrative Duration\", \"Informational\", \"Informational Duration\", \"Product Related\" and \"Product Related Duration\" represent the number of different types of pages visited by the visitor in that session and total time spent in each of these page categories. The values of these features are derived from the URL information of the pages visited by the user and updated in real time when a user takes an action, e.g. moving from one page to another.\n",
    "2. The \"Bounce Rate\", \"Exit Rate\" and \"Page Value\" features represent the metrics measured by \"Google Analytics\" for each page in the e-commerce site.\n",
    "3. The value of \"Bounce Rate\" feature for a web page refers to the percentage of visitors who enter the site from that page and then leave (\"bounce\") without triggering any other requests to the analytics server during that session.\n",
    "4. The value of \"Exit Rate\" feature for a specific web page is calculated as for all pageviews to the page, the percentage that were the last in the session.\n",
    "5. The \"Page Value\" feature represents the average value for a web page that a user visited before completing an e-commerce transaction.\n",
    "6. The \"Special Day\" feature indicates the closeness of the site visiting time to a specific special day (e.g. Mother’s Day, Valentine's Day) in which the sessions are more likely to be finalized with transaction. The value of this attribute is determined by considering the dynamics of e-commerce such as the duration between the order date and delivery date. For example, for Valentina’s day, this value takes a nonzero value between February 2 and February 12, zero before and after this date unless it is close to another special day, and its maximum value of 1 on February 8.\n",
    "7. The dataset also includes operating system, browser, region, traffic type, visitor type as returning or new visitor, a Boolean value indicating whether the date of the visit is weekend, and month of the year."
   ]
  },
  {
   "cell_type": "code",
   "execution_count": 1,
   "id": "124a2ba0",
   "metadata": {},
   "outputs": [],
   "source": [
    "## Importing libraries\n",
    "import seaborn as sns\n",
    "import matplotlib.pyplot as plt\n",
    "import numpy as np\n",
    "import pandas as pd\n",
    "from sklearn.preprocessing import StandardScaler\n",
    "from sklearn.model_selection import train_test_split, GridSearchCV, cross_val_score, StratifiedKFold\n",
    "from sklearn.linear_model import LogisticRegression\n",
    "from sklearn.metrics import classification_report,accuracy_score,confusion_matrix, roc_curve, auc\n",
    "from sklearn.ensemble import RandomForestClassifier\n",
    "from sklearn.decomposition import PCA\n",
    "import lightgbm as lgm\n",
    "import pylab as pl\n",
    "import warnings\n",
    "warnings.filterwarnings('ignore')\n",
    "from sklearn.model_selection import KFold\n",
    "plt.rcParams['figure.figsize'] = [15,8]"
   ]
  },
  {
   "cell_type": "code",
   "execution_count": 2,
   "id": "ce048e4e",
   "metadata": {},
   "outputs": [
    {
     "data": {
      "text/html": [
       "<div>\n",
       "<style scoped>\n",
       "    .dataframe tbody tr th:only-of-type {\n",
       "        vertical-align: middle;\n",
       "    }\n",
       "\n",
       "    .dataframe tbody tr th {\n",
       "        vertical-align: top;\n",
       "    }\n",
       "\n",
       "    .dataframe thead th {\n",
       "        text-align: right;\n",
       "    }\n",
       "</style>\n",
       "<table border=\"1\" class=\"dataframe\">\n",
       "  <thead>\n",
       "    <tr style=\"text-align: right;\">\n",
       "      <th></th>\n",
       "      <th>Administrative</th>\n",
       "      <th>Administrative_Duration</th>\n",
       "      <th>Informational</th>\n",
       "      <th>Informational_Duration</th>\n",
       "      <th>ProductRelated</th>\n",
       "      <th>ProductRelated_Duration</th>\n",
       "      <th>BounceRates</th>\n",
       "      <th>ExitRates</th>\n",
       "      <th>PageValues</th>\n",
       "      <th>SpecialDay</th>\n",
       "      <th>Month</th>\n",
       "      <th>OperatingSystems</th>\n",
       "      <th>Browser</th>\n",
       "      <th>Region</th>\n",
       "      <th>TrafficType</th>\n",
       "      <th>VisitorType</th>\n",
       "      <th>Weekend</th>\n",
       "      <th>Revenue</th>\n",
       "    </tr>\n",
       "  </thead>\n",
       "  <tbody>\n",
       "    <tr>\n",
       "      <th>0</th>\n",
       "      <td>0</td>\n",
       "      <td>0.0</td>\n",
       "      <td>0</td>\n",
       "      <td>0.0</td>\n",
       "      <td>1</td>\n",
       "      <td>0.000000</td>\n",
       "      <td>0.20</td>\n",
       "      <td>0.20</td>\n",
       "      <td>0.0</td>\n",
       "      <td>0.0</td>\n",
       "      <td>Feb</td>\n",
       "      <td>1</td>\n",
       "      <td>1</td>\n",
       "      <td>1</td>\n",
       "      <td>1</td>\n",
       "      <td>Returning_Visitor</td>\n",
       "      <td>False</td>\n",
       "      <td>False</td>\n",
       "    </tr>\n",
       "    <tr>\n",
       "      <th>1</th>\n",
       "      <td>0</td>\n",
       "      <td>0.0</td>\n",
       "      <td>0</td>\n",
       "      <td>0.0</td>\n",
       "      <td>2</td>\n",
       "      <td>64.000000</td>\n",
       "      <td>0.00</td>\n",
       "      <td>0.10</td>\n",
       "      <td>0.0</td>\n",
       "      <td>0.0</td>\n",
       "      <td>Feb</td>\n",
       "      <td>2</td>\n",
       "      <td>2</td>\n",
       "      <td>1</td>\n",
       "      <td>2</td>\n",
       "      <td>Returning_Visitor</td>\n",
       "      <td>False</td>\n",
       "      <td>False</td>\n",
       "    </tr>\n",
       "    <tr>\n",
       "      <th>2</th>\n",
       "      <td>0</td>\n",
       "      <td>0.0</td>\n",
       "      <td>0</td>\n",
       "      <td>0.0</td>\n",
       "      <td>1</td>\n",
       "      <td>0.000000</td>\n",
       "      <td>0.20</td>\n",
       "      <td>0.20</td>\n",
       "      <td>0.0</td>\n",
       "      <td>0.0</td>\n",
       "      <td>Feb</td>\n",
       "      <td>4</td>\n",
       "      <td>1</td>\n",
       "      <td>9</td>\n",
       "      <td>3</td>\n",
       "      <td>Returning_Visitor</td>\n",
       "      <td>False</td>\n",
       "      <td>False</td>\n",
       "    </tr>\n",
       "    <tr>\n",
       "      <th>3</th>\n",
       "      <td>0</td>\n",
       "      <td>0.0</td>\n",
       "      <td>0</td>\n",
       "      <td>0.0</td>\n",
       "      <td>2</td>\n",
       "      <td>2.666667</td>\n",
       "      <td>0.05</td>\n",
       "      <td>0.14</td>\n",
       "      <td>0.0</td>\n",
       "      <td>0.0</td>\n",
       "      <td>Feb</td>\n",
       "      <td>3</td>\n",
       "      <td>2</td>\n",
       "      <td>2</td>\n",
       "      <td>4</td>\n",
       "      <td>Returning_Visitor</td>\n",
       "      <td>False</td>\n",
       "      <td>False</td>\n",
       "    </tr>\n",
       "    <tr>\n",
       "      <th>4</th>\n",
       "      <td>0</td>\n",
       "      <td>0.0</td>\n",
       "      <td>0</td>\n",
       "      <td>0.0</td>\n",
       "      <td>10</td>\n",
       "      <td>627.500000</td>\n",
       "      <td>0.02</td>\n",
       "      <td>0.05</td>\n",
       "      <td>0.0</td>\n",
       "      <td>0.0</td>\n",
       "      <td>Feb</td>\n",
       "      <td>3</td>\n",
       "      <td>3</td>\n",
       "      <td>1</td>\n",
       "      <td>4</td>\n",
       "      <td>Returning_Visitor</td>\n",
       "      <td>True</td>\n",
       "      <td>False</td>\n",
       "    </tr>\n",
       "  </tbody>\n",
       "</table>\n",
       "</div>"
      ],
      "text/plain": [
       "   Administrative  Administrative_Duration  Informational  \\\n",
       "0               0                      0.0              0   \n",
       "1               0                      0.0              0   \n",
       "2               0                      0.0              0   \n",
       "3               0                      0.0              0   \n",
       "4               0                      0.0              0   \n",
       "\n",
       "   Informational_Duration  ProductRelated  ProductRelated_Duration  \\\n",
       "0                     0.0               1                 0.000000   \n",
       "1                     0.0               2                64.000000   \n",
       "2                     0.0               1                 0.000000   \n",
       "3                     0.0               2                 2.666667   \n",
       "4                     0.0              10               627.500000   \n",
       "\n",
       "   BounceRates  ExitRates  PageValues  SpecialDay Month  OperatingSystems  \\\n",
       "0         0.20       0.20         0.0         0.0   Feb                 1   \n",
       "1         0.00       0.10         0.0         0.0   Feb                 2   \n",
       "2         0.20       0.20         0.0         0.0   Feb                 4   \n",
       "3         0.05       0.14         0.0         0.0   Feb                 3   \n",
       "4         0.02       0.05         0.0         0.0   Feb                 3   \n",
       "\n",
       "   Browser  Region  TrafficType        VisitorType  Weekend  Revenue  \n",
       "0        1       1            1  Returning_Visitor    False    False  \n",
       "1        2       1            2  Returning_Visitor    False    False  \n",
       "2        1       9            3  Returning_Visitor    False    False  \n",
       "3        2       2            4  Returning_Visitor    False    False  \n",
       "4        3       1            4  Returning_Visitor     True    False  "
      ]
     },
     "execution_count": 2,
     "metadata": {},
     "output_type": "execute_result"
    }
   ],
   "source": [
    "## uploading the dataset\n",
    "d1 = pd.read_csv('online_shoppers_intention.csv')\n",
    "d1.head()"
   ]
  },
  {
   "cell_type": "code",
   "execution_count": 3,
   "id": "191a7c72",
   "metadata": {},
   "outputs": [
    {
     "data": {
      "text/plain": [
       "Administrative               int64\n",
       "Administrative_Duration    float64\n",
       "Informational                int64\n",
       "Informational_Duration     float64\n",
       "ProductRelated               int64\n",
       "ProductRelated_Duration    float64\n",
       "BounceRates                float64\n",
       "ExitRates                  float64\n",
       "PageValues                 float64\n",
       "SpecialDay                 float64\n",
       "Month                       object\n",
       "OperatingSystems             int64\n",
       "Browser                      int64\n",
       "Region                       int64\n",
       "TrafficType                  int64\n",
       "VisitorType                 object\n",
       "Weekend                       bool\n",
       "Revenue                       bool\n",
       "dtype: object"
      ]
     },
     "execution_count": 3,
     "metadata": {},
     "output_type": "execute_result"
    }
   ],
   "source": [
    "## checking the datatypes for all variables\n",
    "d1.dtypes"
   ]
  },
  {
   "cell_type": "markdown",
   "id": "f0b9cd57",
   "metadata": {},
   "source": [
    "1.  We can see that some of the varaibles like month, special day, browser, region,\n",
    " traffic type, visitor type, weekend, revenue and operating system are interpretated as int while they should ctually be \n",
    " objects, so we need to change their datatype."
   ]
  },
  {
   "cell_type": "code",
   "execution_count": 4,
   "id": "b31c4c0f",
   "metadata": {},
   "outputs": [],
   "source": [
    "d1['SpecialDay']=d1['SpecialDay'].astype('object')\n",
    "d1['Month']=d1['Month'].astype('object')\n",
    "d1['OperatingSystems']=d1['OperatingSystems'].astype('object')\n",
    "d1['Browser']=d1['Browser'].astype('object')\n",
    "d1['Region']=d1['Region'].astype('object')\n",
    "d1['TrafficType']=d1['TrafficType'].astype('object')\n",
    "d1['VisitorType']=d1['VisitorType'].astype('object')"
   ]
  },
  {
   "cell_type": "code",
   "execution_count": 6,
   "id": "dbfcc9ab",
   "metadata": {},
   "outputs": [
    {
     "data": {
      "text/html": [
       "<div>\n",
       "<style scoped>\n",
       "    .dataframe tbody tr th:only-of-type {\n",
       "        vertical-align: middle;\n",
       "    }\n",
       "\n",
       "    .dataframe tbody tr th {\n",
       "        vertical-align: top;\n",
       "    }\n",
       "\n",
       "    .dataframe thead th {\n",
       "        text-align: right;\n",
       "    }\n",
       "</style>\n",
       "<table border=\"1\" class=\"dataframe\">\n",
       "  <thead>\n",
       "    <tr style=\"text-align: right;\">\n",
       "      <th></th>\n",
       "      <th>Administrative</th>\n",
       "      <th>Administrative_Duration</th>\n",
       "      <th>Informational</th>\n",
       "      <th>Informational_Duration</th>\n",
       "      <th>ProductRelated</th>\n",
       "      <th>ProductRelated_Duration</th>\n",
       "      <th>BounceRates</th>\n",
       "      <th>ExitRates</th>\n",
       "      <th>PageValues</th>\n",
       "    </tr>\n",
       "  </thead>\n",
       "  <tbody>\n",
       "    <tr>\n",
       "      <th>count</th>\n",
       "      <td>12330.000000</td>\n",
       "      <td>12330.000000</td>\n",
       "      <td>12330.000000</td>\n",
       "      <td>12330.000000</td>\n",
       "      <td>12330.000000</td>\n",
       "      <td>12330.000000</td>\n",
       "      <td>12330.000000</td>\n",
       "      <td>12330.000000</td>\n",
       "      <td>12330.000000</td>\n",
       "    </tr>\n",
       "    <tr>\n",
       "      <th>mean</th>\n",
       "      <td>2.315166</td>\n",
       "      <td>80.818611</td>\n",
       "      <td>0.503569</td>\n",
       "      <td>34.472398</td>\n",
       "      <td>31.731468</td>\n",
       "      <td>1194.746220</td>\n",
       "      <td>0.022191</td>\n",
       "      <td>0.043073</td>\n",
       "      <td>5.889258</td>\n",
       "    </tr>\n",
       "    <tr>\n",
       "      <th>std</th>\n",
       "      <td>3.321784</td>\n",
       "      <td>176.779107</td>\n",
       "      <td>1.270156</td>\n",
       "      <td>140.749294</td>\n",
       "      <td>44.475503</td>\n",
       "      <td>1913.669288</td>\n",
       "      <td>0.048488</td>\n",
       "      <td>0.048597</td>\n",
       "      <td>18.568437</td>\n",
       "    </tr>\n",
       "    <tr>\n",
       "      <th>min</th>\n",
       "      <td>0.000000</td>\n",
       "      <td>0.000000</td>\n",
       "      <td>0.000000</td>\n",
       "      <td>0.000000</td>\n",
       "      <td>0.000000</td>\n",
       "      <td>0.000000</td>\n",
       "      <td>0.000000</td>\n",
       "      <td>0.000000</td>\n",
       "      <td>0.000000</td>\n",
       "    </tr>\n",
       "    <tr>\n",
       "      <th>25%</th>\n",
       "      <td>0.000000</td>\n",
       "      <td>0.000000</td>\n",
       "      <td>0.000000</td>\n",
       "      <td>0.000000</td>\n",
       "      <td>7.000000</td>\n",
       "      <td>184.137500</td>\n",
       "      <td>0.000000</td>\n",
       "      <td>0.014286</td>\n",
       "      <td>0.000000</td>\n",
       "    </tr>\n",
       "    <tr>\n",
       "      <th>50%</th>\n",
       "      <td>1.000000</td>\n",
       "      <td>7.500000</td>\n",
       "      <td>0.000000</td>\n",
       "      <td>0.000000</td>\n",
       "      <td>18.000000</td>\n",
       "      <td>598.936905</td>\n",
       "      <td>0.003112</td>\n",
       "      <td>0.025156</td>\n",
       "      <td>0.000000</td>\n",
       "    </tr>\n",
       "    <tr>\n",
       "      <th>75%</th>\n",
       "      <td>4.000000</td>\n",
       "      <td>93.256250</td>\n",
       "      <td>0.000000</td>\n",
       "      <td>0.000000</td>\n",
       "      <td>38.000000</td>\n",
       "      <td>1464.157214</td>\n",
       "      <td>0.016813</td>\n",
       "      <td>0.050000</td>\n",
       "      <td>0.000000</td>\n",
       "    </tr>\n",
       "    <tr>\n",
       "      <th>max</th>\n",
       "      <td>27.000000</td>\n",
       "      <td>3398.750000</td>\n",
       "      <td>24.000000</td>\n",
       "      <td>2549.375000</td>\n",
       "      <td>705.000000</td>\n",
       "      <td>63973.522230</td>\n",
       "      <td>0.200000</td>\n",
       "      <td>0.200000</td>\n",
       "      <td>361.763742</td>\n",
       "    </tr>\n",
       "  </tbody>\n",
       "</table>\n",
       "</div>"
      ],
      "text/plain": [
       "       Administrative  Administrative_Duration  Informational  \\\n",
       "count    12330.000000             12330.000000   12330.000000   \n",
       "mean         2.315166                80.818611       0.503569   \n",
       "std          3.321784               176.779107       1.270156   \n",
       "min          0.000000                 0.000000       0.000000   \n",
       "25%          0.000000                 0.000000       0.000000   \n",
       "50%          1.000000                 7.500000       0.000000   \n",
       "75%          4.000000                93.256250       0.000000   \n",
       "max         27.000000              3398.750000      24.000000   \n",
       "\n",
       "       Informational_Duration  ProductRelated  ProductRelated_Duration  \\\n",
       "count            12330.000000    12330.000000             12330.000000   \n",
       "mean                34.472398       31.731468              1194.746220   \n",
       "std                140.749294       44.475503              1913.669288   \n",
       "min                  0.000000        0.000000                 0.000000   \n",
       "25%                  0.000000        7.000000               184.137500   \n",
       "50%                  0.000000       18.000000               598.936905   \n",
       "75%                  0.000000       38.000000              1464.157214   \n",
       "max               2549.375000      705.000000             63973.522230   \n",
       "\n",
       "        BounceRates     ExitRates    PageValues  \n",
       "count  12330.000000  12330.000000  12330.000000  \n",
       "mean       0.022191      0.043073      5.889258  \n",
       "std        0.048488      0.048597     18.568437  \n",
       "min        0.000000      0.000000      0.000000  \n",
       "25%        0.000000      0.014286      0.000000  \n",
       "50%        0.003112      0.025156      0.000000  \n",
       "75%        0.016813      0.050000      0.000000  \n",
       "max        0.200000      0.200000    361.763742  "
      ]
     },
     "execution_count": 6,
     "metadata": {},
     "output_type": "execute_result"
    }
   ],
   "source": [
    "## five point summary for numerical variables\n",
    "d1.describe()"
   ]
  },
  {
   "cell_type": "markdown",
   "id": "47df8cad",
   "metadata": {},
   "source": [
    "1. We can see that average bounce rate is 0.02, average exit rate is 0.04 and average page value is 5.88.\n",
    "2. Variation in bounce rate and exit rate is almost same i.e. 0.04, variation in page value is 18.56.\n",
    "3. Administrative duration average is 80.81, average of informational duration is 34.47 and product related average duration is 1194.74."
   ]
  },
  {
   "cell_type": "code",
   "execution_count": 7,
   "id": "21358bfa",
   "metadata": {},
   "outputs": [
    {
     "data": {
      "text/html": [
       "<div>\n",
       "<style scoped>\n",
       "    .dataframe tbody tr th:only-of-type {\n",
       "        vertical-align: middle;\n",
       "    }\n",
       "\n",
       "    .dataframe tbody tr th {\n",
       "        vertical-align: top;\n",
       "    }\n",
       "\n",
       "    .dataframe thead th {\n",
       "        text-align: right;\n",
       "    }\n",
       "</style>\n",
       "<table border=\"1\" class=\"dataframe\">\n",
       "  <thead>\n",
       "    <tr style=\"text-align: right;\">\n",
       "      <th></th>\n",
       "      <th>SpecialDay</th>\n",
       "      <th>Month</th>\n",
       "      <th>OperatingSystems</th>\n",
       "      <th>Browser</th>\n",
       "      <th>Region</th>\n",
       "      <th>TrafficType</th>\n",
       "      <th>VisitorType</th>\n",
       "    </tr>\n",
       "  </thead>\n",
       "  <tbody>\n",
       "    <tr>\n",
       "      <th>count</th>\n",
       "      <td>12330.0</td>\n",
       "      <td>12330</td>\n",
       "      <td>12330</td>\n",
       "      <td>12330</td>\n",
       "      <td>12330</td>\n",
       "      <td>12330</td>\n",
       "      <td>12330</td>\n",
       "    </tr>\n",
       "    <tr>\n",
       "      <th>unique</th>\n",
       "      <td>6.0</td>\n",
       "      <td>10</td>\n",
       "      <td>8</td>\n",
       "      <td>13</td>\n",
       "      <td>9</td>\n",
       "      <td>20</td>\n",
       "      <td>3</td>\n",
       "    </tr>\n",
       "    <tr>\n",
       "      <th>top</th>\n",
       "      <td>0.0</td>\n",
       "      <td>May</td>\n",
       "      <td>2</td>\n",
       "      <td>2</td>\n",
       "      <td>1</td>\n",
       "      <td>2</td>\n",
       "      <td>Returning_Visitor</td>\n",
       "    </tr>\n",
       "    <tr>\n",
       "      <th>freq</th>\n",
       "      <td>11079.0</td>\n",
       "      <td>3364</td>\n",
       "      <td>6601</td>\n",
       "      <td>7961</td>\n",
       "      <td>4780</td>\n",
       "      <td>3913</td>\n",
       "      <td>10551</td>\n",
       "    </tr>\n",
       "  </tbody>\n",
       "</table>\n",
       "</div>"
      ],
      "text/plain": [
       "        SpecialDay  Month  OperatingSystems  Browser  Region  TrafficType  \\\n",
       "count      12330.0  12330             12330    12330   12330        12330   \n",
       "unique         6.0     10                 8       13       9           20   \n",
       "top            0.0    May                 2        2       1            2   \n",
       "freq       11079.0   3364              6601     7961    4780         3913   \n",
       "\n",
       "              VisitorType  \n",
       "count               12330  \n",
       "unique                  3  \n",
       "top     Returning_Visitor  \n",
       "freq                10551  "
      ]
     },
     "execution_count": 7,
     "metadata": {},
     "output_type": "execute_result"
    }
   ],
   "source": [
    "## five point summary for categorical variables\n",
    "d1.describe(include = 'object')"
   ]
  },
  {
   "cell_type": "markdown",
   "id": "375b2798",
   "metadata": {},
   "source": [
    "1. We can see in the Month variable that May has occured maximum times i.e revenue related information is maximum found in May.\n",
    "2. Returning visitor has occured the most in generating revenue.\n",
    "3. Maxium revenue genrating information is captured from region 1."
   ]
  },
  {
   "cell_type": "markdown",
   "id": "ab8c4152",
   "metadata": {},
   "source": [
    "# Explorartory Data Analysis"
   ]
  },
  {
   "cell_type": "markdown",
   "id": "c6ee2270",
   "metadata": {},
   "source": [
    "### Checking for null values"
   ]
  },
  {
   "cell_type": "code",
   "execution_count": 8,
   "id": "ac602692",
   "metadata": {},
   "outputs": [
    {
     "data": {
      "text/plain": [
       "Administrative             0\n",
       "Administrative_Duration    0\n",
       "Informational              0\n",
       "Informational_Duration     0\n",
       "ProductRelated             0\n",
       "ProductRelated_Duration    0\n",
       "BounceRates                0\n",
       "ExitRates                  0\n",
       "PageValues                 0\n",
       "SpecialDay                 0\n",
       "Month                      0\n",
       "OperatingSystems           0\n",
       "Browser                    0\n",
       "Region                     0\n",
       "TrafficType                0\n",
       "VisitorType                0\n",
       "Weekend                    0\n",
       "Revenue                    0\n",
       "dtype: int64"
      ]
     },
     "execution_count": 8,
     "metadata": {},
     "output_type": "execute_result"
    }
   ],
   "source": [
    "d1.isnull().sum()"
   ]
  },
  {
   "cell_type": "markdown",
   "id": "1d71e2b2",
   "metadata": {},
   "source": [
    "## Univariate analysis"
   ]
  },
  {
   "cell_type": "code",
   "execution_count": 9,
   "id": "f39fe71f",
   "metadata": {},
   "outputs": [
    {
     "data": {
      "image/png": "[encoded data removed]",
      "text/plain": [
       "<Figure size 1080x576 with 9 Axes>"
      ]
     },
     "metadata": {
      "needs_background": "light"
     },
     "output_type": "display_data"
    }
   ],
   "source": [
    "# for the independent numeric variables, we plot the histogram to check the distribution of the variables\n",
    "num = d1.select_dtypes(include = 'number')\n",
    "a = 3\n",
    "b = 3\n",
    "c = 1\n",
    "for i in num.columns:\n",
    "    plt.subplot(a,b,c)\n",
    "    sns.histplot(num.loc[:,i])\n",
    "    plt.xlabel(i)\n",
    "    c = c+1\n",
    "\n",
    "## 1. Distribution plots clearly show that the variables are skewed and need transformation."
   ]
  },
  {
   "cell_type": "code",
   "execution_count": 10,
   "id": "2bedc83d",
   "metadata": {},
   "outputs": [
    {
     "data": {
      "image/png": "[encoded data removed]",
      "text/plain": [
       "<Figure size 1080x576 with 1 Axes>"
      ]
     },
     "metadata": {
      "needs_background": "light"
     },
     "output_type": "display_data"
    }
   ],
   "source": [
    "## countplot for target variable\n",
    "sns.countplot(d1.Revenue)\n",
    "plt.show()"
   ]
  },
  {
   "cell_type": "markdown",
   "id": "d2e0c5b1",
   "metadata": {},
   "source": [
    "Interpretation : The above plot clealry shows that target variable is imbalanced."
   ]
  },
  {
   "cell_type": "markdown",
   "id": "6f84e866",
   "metadata": {},
   "source": [
    "## Bivariate Analysis"
   ]
  },
  {
   "cell_type": "markdown",
   "id": "2c89e401",
   "metadata": {},
   "source": [
    "### Q1 Which visitor type contributes to revenue more ?"
   ]
  },
  {
   "cell_type": "code",
   "execution_count": 11,
   "id": "b7fe4ff4",
   "metadata": {},
   "outputs": [
    {
     "data": {
      "text/plain": [
       "VisitorType        Revenue\n",
       "New_Visitor        False      1272\n",
       "                   True        422\n",
       "Other              False        69\n",
       "                   True         16\n",
       "Returning_Visitor  False      9081\n",
       "                   True       1470\n",
       "Name: Revenue, dtype: int64"
      ]
     },
     "execution_count": 11,
     "metadata": {},
     "output_type": "execute_result"
    }
   ],
   "source": [
    "d1.groupby('VisitorType')['Revenue'].value_counts()"
   ]
  },
  {
   "cell_type": "code",
   "execution_count": 12,
   "id": "0ce5a981",
   "metadata": {},
   "outputs": [
    {
     "data": {
      "text/plain": [
       "<AxesSubplot:xlabel='Revenue'>"
      ]
     },
     "execution_count": 12,
     "metadata": {},
     "output_type": "execute_result"
    },
    {
     "data": {
      "image/png": "[encoded data removed]",
      "text/plain": [
       "<Figure size 1080x576 with 1 Axes>"
      ]
     },
     "metadata": {
      "needs_background": "light"
     },
     "output_type": "display_data"
    }
   ],
   "source": [
    "pd.crosstab(d1.Revenue, d1.VisitorType).plot(kind = 'bar')"
   ]
  },
  {
   "cell_type": "markdown",
   "id": "9cdf433d",
   "metadata": {},
   "source": [
    "Interpretation : \n",
    "1. We can see that only 1470 returning visitor generate revenue and almost 9081 \n",
    "returning visitor do not generate revenue.\n",
    "\n",
    "2. Among new visitors only 422 generate revenue and rest do not generate any revenue.\n",
    "\n",
    "3. It can be clearly seen that the proportion of new vistor contributing to revenue is \n",
    "    more than proportion of returning visitor contributing to revenue."
   ]
  },
  {
   "cell_type": "markdown",
   "id": "c58530be",
   "metadata": {},
   "source": [
    "### Q2 Does weekend leads to more revenue ?"
   ]
  },
  {
   "cell_type": "code",
   "execution_count": 13,
   "id": "1ae889f2",
   "metadata": {},
   "outputs": [
    {
     "data": {
      "text/plain": [
       "<AxesSubplot:xlabel='Revenue'>"
      ]
     },
     "execution_count": 13,
     "metadata": {},
     "output_type": "execute_result"
    },
    {
     "data": {
      "image/png": "[encoded data removed]",
      "text/plain": [
       "<Figure size 1080x576 with 1 Axes>"
      ]
     },
     "metadata": {
      "needs_background": "light"
     },
     "output_type": "display_data"
    }
   ],
   "source": [
    "pd.crosstab(d1.Revenue,d1.Weekend).plot(kind = 'bar')"
   ]
  },
  {
   "cell_type": "markdown",
   "id": "9f6c6982",
   "metadata": {},
   "source": [
    "Interpretation : We can clearly see that if its's a weekend then the ideal thought of \n",
    "    having more revenue generation is not satisfied here.\n",
    "    "
   ]
  },
  {
   "cell_type": "markdown",
   "id": "1e230649",
   "metadata": {},
   "source": [
    "### Q3 Which month contributes more towards revenue generation ?"
   ]
  },
  {
   "cell_type": "code",
   "execution_count": 14,
   "id": "4c690d3e",
   "metadata": {},
   "outputs": [
    {
     "data": {
      "text/plain": [
       "<AxesSubplot:xlabel='Revenue'>"
      ]
     },
     "execution_count": 14,
     "metadata": {},
     "output_type": "execute_result"
    },
    {
     "data": {
      "image/png": "[encoded data removed]",
      "text/plain": [
       "<Figure size 1080x576 with 1 Axes>"
      ]
     },
     "metadata": {
      "needs_background": "light"
     },
     "output_type": "display_data"
    }
   ],
   "source": [
    "pd.crosstab(d1.Revenue,d1.Month).plot(kind = 'bar')"
   ]
  },
  {
   "cell_type": "markdown",
   "id": "8c84ad90",
   "metadata": {},
   "source": [
    "Interpretation :\n",
    "    \n",
    "    1. Though maximum times May month occurs but maximum revenue generation happens in the month of November.\n",
    "    \n",
    "    2. February and June have almost negligible sales."
   ]
  },
  {
   "cell_type": "markdown",
   "id": "509932d9",
   "metadata": {},
   "source": [
    "### Q4 Which region contributes to revenue more ?"
   ]
  },
  {
   "cell_type": "code",
   "execution_count": 15,
   "id": "84ba9358",
   "metadata": {},
   "outputs": [
    {
     "data": {
      "text/plain": [
       "<AxesSubplot:xlabel='Revenue'>"
      ]
     },
     "execution_count": 15,
     "metadata": {},
     "output_type": "execute_result"
    },
    {
     "data": {
      "image/png": "[encoded data removed]",
      "text/plain": [
       "<Figure size 1080x576 with 1 Axes>"
      ]
     },
     "metadata": {
      "needs_background": "light"
     },
     "output_type": "display_data"
    }
   ],
   "source": [
    "pd.crosstab(d1.Revenue,d1.Region).plot(kind = 'bar')"
   ]
  },
  {
   "cell_type": "markdown",
   "id": "3824063e",
   "metadata": {},
   "source": [
    "Interpretation : \n",
    "     We can see that region 1 occurs the maximum time and also contributes more towards revenue."
   ]
  },
  {
   "cell_type": "markdown",
   "id": "913f025a",
   "metadata": {},
   "source": [
    "### Q5 Average page value and revenue generation "
   ]
  },
  {
   "cell_type": "code",
   "execution_count": 16,
   "id": "22d07123",
   "metadata": {},
   "outputs": [
    {
     "data": {
      "text/plain": [
       "<AxesSubplot:xlabel='Revenue', ylabel='PageValues'>"
      ]
     },
     "execution_count": 16,
     "metadata": {},
     "output_type": "execute_result"
    },
    {
     "data": {
      "image/png": "[encoded data removed]",
      "text/plain": [
       "<Figure size 1080x576 with 1 Axes>"
      ]
     },
     "metadata": {
      "needs_background": "light"
     },
     "output_type": "display_data"
    }
   ],
   "source": [
    "sns.boxplot(d1.Revenue,d1.PageValues)"
   ]
  },
  {
   "cell_type": "markdown",
   "id": "e8e59233",
   "metadata": {},
   "source": [
    "Interpretation :\n",
    "1. We can see that an average page-value of around 20 can be seen for generating revenue.\n",
    "2. We can also see that there are a lot of outliers."
   ]
  },
  {
   "cell_type": "markdown",
   "id": "4c1490b2",
   "metadata": {},
   "source": [
    "## Multivariate Analysis"
   ]
  },
  {
   "cell_type": "markdown",
   "id": "c4f7d296",
   "metadata": {},
   "source": [
    "### Q6 How to differntiate which type of visitor is serious and non-serious ?"
   ]
  },
  {
   "cell_type": "code",
   "execution_count": 17,
   "id": "cd20111e",
   "metadata": {},
   "outputs": [
    {
     "data": {
      "text/plain": [
       "<AxesSubplot:xlabel='VisitorType', ylabel='Administrative_Duration'>"
      ]
     },
     "execution_count": 17,
     "metadata": {},
     "output_type": "execute_result"
    },
    {
     "data": {
      "image/png": "[encoded data removed]",
      "text/plain": [
       "<Figure size 1080x576 with 1 Axes>"
      ]
     },
     "metadata": {
      "needs_background": "light"
     },
     "output_type": "display_data"
    }
   ],
   "source": [
    "## for this question we will look at visitor type and administrative duration, informational duration and page related duration.\n",
    "sns.boxplot(x=\"VisitorType\",y=\"Administrative_Duration\", data=d1,hue='Revenue')"
   ]
  },
  {
   "cell_type": "code",
   "execution_count": 18,
   "id": "e4896d7e",
   "metadata": {},
   "outputs": [
    {
     "data": {
      "text/plain": [
       "<AxesSubplot:xlabel='VisitorType', ylabel='Informational_Duration'>"
      ]
     },
     "execution_count": 18,
     "metadata": {},
     "output_type": "execute_result"
    },
    {
     "data": {
      "image/png": "[encoded data removed]",
      "text/plain": [
       "<Figure size 1080x576 with 1 Axes>"
      ]
     },
     "metadata": {
      "needs_background": "light"
     },
     "output_type": "display_data"
    }
   ],
   "source": [
    "sns.boxplot(x=\"VisitorType\",y=\"Informational_Duration\", data=d1,hue='Revenue')"
   ]
  },
  {
   "cell_type": "code",
   "execution_count": 19,
   "id": "03b47ace",
   "metadata": {},
   "outputs": [
    {
     "data": {
      "text/plain": [
       "<AxesSubplot:xlabel='VisitorType', ylabel='ProductRelated_Duration'>"
      ]
     },
     "execution_count": 19,
     "metadata": {},
     "output_type": "execute_result"
    },
    {
     "data": {
      "image/png": "[encoded data removed]",
      "text/plain": [
       "<Figure size 1080x576 with 1 Axes>"
      ]
     },
     "metadata": {
      "needs_background": "light"
     },
     "output_type": "display_data"
    }
   ],
   "source": [
    "sns.boxplot(x=\"VisitorType\",y=\"ProductRelated_Duration\", data=d1,hue='Revenue')"
   ]
  },
  {
   "cell_type": "markdown",
   "id": "cf4e45ca",
   "metadata": {},
   "source": [
    "Interpretation :\n",
    "1. Returning visitors shows higher chance of buying a product and are serious customers.\n",
    "2. Also customers who spent most time on product related page shows higher chance of buying a product.\n",
    "3. In contrast, new visitors are hardly purchasing.\n",
    "4. Only returning customers spent time on informational page and buys product"
   ]
  },
  {
   "cell_type": "markdown",
   "id": "e27d9a69",
   "metadata": {},
   "source": [
    "### ------------------------------------------------------------------------------------------------------------"
   ]
  },
  {
   "cell_type": "markdown",
   "id": "339c476b",
   "metadata": {},
   "source": [
    "### Checking for outliers"
   ]
  },
  {
   "cell_type": "code",
   "execution_count": 20,
   "id": "3b6a4f32",
   "metadata": {},
   "outputs": [
    {
     "data": {
      "image/png": "[encoded data removed]",
      "text/plain": [
       "<Figure size 1080x576 with 1 Axes>"
      ]
     },
     "metadata": {
      "needs_background": "light"
     },
     "output_type": "display_data"
    }
   ],
   "source": [
    "d1.boxplot()\n",
    "plt.xticks(rotation = 90)\n",
    "plt.show()"
   ]
  },
  {
   "cell_type": "markdown",
   "id": "839ee72d",
   "metadata": {},
   "source": [
    "q3 = d1.quantile(0.75)\n",
    "q1 = d1.quantile(0.25)\n",
    "iqr = q3 - q1\n",
    "d2 = d1[~((d1<(q1-1.5*iqr))|(d1>(q3+1.5*iqr))).any(axis = 1)]\n",
    "d2.shape\n",
    "### we will not remove outliers as a lot of information is being lost if we remove ouliers so we tend not to remove them."
   ]
  },
  {
   "cell_type": "markdown",
   "id": "a8c27dcb",
   "metadata": {},
   "source": [
    "## ----------------------------------------------------------------------------------------------------------------------------"
   ]
  },
  {
   "cell_type": "markdown",
   "id": "53e1fece",
   "metadata": {},
   "source": [
    "# Model Building and Pre-processing"
   ]
  },
  {
   "cell_type": "code",
   "execution_count": 5,
   "id": "3fce2c0c",
   "metadata": {},
   "outputs": [],
   "source": [
    "## splitting the dependent and independent variables\n",
    "d1['Revenue']= d1['Revenue'].astype('int')\n",
    "target = d1.Revenue\n",
    "feature = d1.drop('Revenue', axis = 1)"
   ]
  },
  {
   "cell_type": "code",
   "execution_count": 6,
   "id": "a2dd060f",
   "metadata": {},
   "outputs": [],
   "source": [
    "## filtering numerical and categorical variables\n",
    "num = feature.select_dtypes(include = 'number')\n",
    "cat = feature.select_dtypes(include = 'object')"
   ]
  },
  {
   "cell_type": "code",
   "execution_count": 7,
   "id": "11fb1d98",
   "metadata": {},
   "outputs": [],
   "source": [
    "## scaling the numerical variables\n",
    "sc = StandardScaler()\n",
    "scaled = sc.fit_transform(num)\n",
    "scaled = pd.DataFrame(data = scaled, columns = num.columns)"
   ]
  },
  {
   "cell_type": "code",
   "execution_count": 8,
   "id": "217a0961",
   "metadata": {},
   "outputs": [],
   "source": [
    "## encoding the categorical variables\n",
    "encoded = pd.get_dummies(data = cat, drop_first = True)"
   ]
  },
  {
   "cell_type": "code",
   "execution_count": 9,
   "id": "22e03bee",
   "metadata": {},
   "outputs": [],
   "source": [
    "scaled.reset_index(drop = True, inplace = True)\n",
    "encoded.reset_index(drop = True, inplace = True)"
   ]
  },
  {
   "cell_type": "code",
   "execution_count": 10,
   "id": "b6d2962a",
   "metadata": {},
   "outputs": [
    {
     "data": {
      "text/html": [
       "<div>\n",
       "<style scoped>\n",
       "    .dataframe tbody tr th:only-of-type {\n",
       "        vertical-align: middle;\n",
       "    }\n",
       "\n",
       "    .dataframe tbody tr th {\n",
       "        vertical-align: top;\n",
       "    }\n",
       "\n",
       "    .dataframe thead th {\n",
       "        text-align: right;\n",
       "    }\n",
       "</style>\n",
       "<table border=\"1\" class=\"dataframe\">\n",
       "  <thead>\n",
       "    <tr style=\"text-align: right;\">\n",
       "      <th></th>\n",
       "      <th>Administrative</th>\n",
       "      <th>Administrative_Duration</th>\n",
       "      <th>Informational</th>\n",
       "      <th>Informational_Duration</th>\n",
       "      <th>ProductRelated</th>\n",
       "      <th>ProductRelated_Duration</th>\n",
       "      <th>BounceRates</th>\n",
       "      <th>ExitRates</th>\n",
       "      <th>PageValues</th>\n",
       "      <th>SpecialDay_0.2</th>\n",
       "      <th>...</th>\n",
       "      <th>TrafficType_13</th>\n",
       "      <th>TrafficType_14</th>\n",
       "      <th>TrafficType_15</th>\n",
       "      <th>TrafficType_16</th>\n",
       "      <th>TrafficType_17</th>\n",
       "      <th>TrafficType_18</th>\n",
       "      <th>TrafficType_19</th>\n",
       "      <th>TrafficType_20</th>\n",
       "      <th>VisitorType_Other</th>\n",
       "      <th>VisitorType_Returning_Visitor</th>\n",
       "    </tr>\n",
       "  </thead>\n",
       "  <tbody>\n",
       "    <tr>\n",
       "      <th>0</th>\n",
       "      <td>-0.696993</td>\n",
       "      <td>-0.457191</td>\n",
       "      <td>-0.396478</td>\n",
       "      <td>-0.244931</td>\n",
       "      <td>-0.691003</td>\n",
       "      <td>-0.624348</td>\n",
       "      <td>3.667189</td>\n",
       "      <td>3.229316</td>\n",
       "      <td>-0.317178</td>\n",
       "      <td>0</td>\n",
       "      <td>...</td>\n",
       "      <td>0</td>\n",
       "      <td>0</td>\n",
       "      <td>0</td>\n",
       "      <td>0</td>\n",
       "      <td>0</td>\n",
       "      <td>0</td>\n",
       "      <td>0</td>\n",
       "      <td>0</td>\n",
       "      <td>0</td>\n",
       "      <td>1</td>\n",
       "    </tr>\n",
       "    <tr>\n",
       "      <th>1</th>\n",
       "      <td>-0.696993</td>\n",
       "      <td>-0.457191</td>\n",
       "      <td>-0.396478</td>\n",
       "      <td>-0.244931</td>\n",
       "      <td>-0.668518</td>\n",
       "      <td>-0.590903</td>\n",
       "      <td>-0.457683</td>\n",
       "      <td>1.171473</td>\n",
       "      <td>-0.317178</td>\n",
       "      <td>0</td>\n",
       "      <td>...</td>\n",
       "      <td>0</td>\n",
       "      <td>0</td>\n",
       "      <td>0</td>\n",
       "      <td>0</td>\n",
       "      <td>0</td>\n",
       "      <td>0</td>\n",
       "      <td>0</td>\n",
       "      <td>0</td>\n",
       "      <td>0</td>\n",
       "      <td>1</td>\n",
       "    </tr>\n",
       "    <tr>\n",
       "      <th>2</th>\n",
       "      <td>-0.696993</td>\n",
       "      <td>-0.457191</td>\n",
       "      <td>-0.396478</td>\n",
       "      <td>-0.244931</td>\n",
       "      <td>-0.691003</td>\n",
       "      <td>-0.624348</td>\n",
       "      <td>3.667189</td>\n",
       "      <td>3.229316</td>\n",
       "      <td>-0.317178</td>\n",
       "      <td>0</td>\n",
       "      <td>...</td>\n",
       "      <td>0</td>\n",
       "      <td>0</td>\n",
       "      <td>0</td>\n",
       "      <td>0</td>\n",
       "      <td>0</td>\n",
       "      <td>0</td>\n",
       "      <td>0</td>\n",
       "      <td>0</td>\n",
       "      <td>0</td>\n",
       "      <td>1</td>\n",
       "    </tr>\n",
       "    <tr>\n",
       "      <th>3</th>\n",
       "      <td>-0.696993</td>\n",
       "      <td>-0.457191</td>\n",
       "      <td>-0.396478</td>\n",
       "      <td>-0.244931</td>\n",
       "      <td>-0.668518</td>\n",
       "      <td>-0.622954</td>\n",
       "      <td>0.573535</td>\n",
       "      <td>1.994610</td>\n",
       "      <td>-0.317178</td>\n",
       "      <td>0</td>\n",
       "      <td>...</td>\n",
       "      <td>0</td>\n",
       "      <td>0</td>\n",
       "      <td>0</td>\n",
       "      <td>0</td>\n",
       "      <td>0</td>\n",
       "      <td>0</td>\n",
       "      <td>0</td>\n",
       "      <td>0</td>\n",
       "      <td>0</td>\n",
       "      <td>1</td>\n",
       "    </tr>\n",
       "    <tr>\n",
       "      <th>4</th>\n",
       "      <td>-0.696993</td>\n",
       "      <td>-0.457191</td>\n",
       "      <td>-0.396478</td>\n",
       "      <td>-0.244931</td>\n",
       "      <td>-0.488636</td>\n",
       "      <td>-0.296430</td>\n",
       "      <td>-0.045196</td>\n",
       "      <td>0.142551</td>\n",
       "      <td>-0.317178</td>\n",
       "      <td>0</td>\n",
       "      <td>...</td>\n",
       "      <td>0</td>\n",
       "      <td>0</td>\n",
       "      <td>0</td>\n",
       "      <td>0</td>\n",
       "      <td>0</td>\n",
       "      <td>0</td>\n",
       "      <td>0</td>\n",
       "      <td>0</td>\n",
       "      <td>0</td>\n",
       "      <td>1</td>\n",
       "    </tr>\n",
       "  </tbody>\n",
       "</table>\n",
       "<p>5 rows × 71 columns</p>\n",
       "</div>"
      ],
      "text/plain": [
       "   Administrative  Administrative_Duration  Informational  \\\n",
       "0       -0.696993                -0.457191      -0.396478   \n",
       "1       -0.696993                -0.457191      -0.396478   \n",
       "2       -0.696993                -0.457191      -0.396478   \n",
       "3       -0.696993                -0.457191      -0.396478   \n",
       "4       -0.696993                -0.457191      -0.396478   \n",
       "\n",
       "   Informational_Duration  ProductRelated  ProductRelated_Duration  \\\n",
       "0               -0.244931       -0.691003                -0.624348   \n",
       "1               -0.244931       -0.668518                -0.590903   \n",
       "2               -0.244931       -0.691003                -0.624348   \n",
       "3               -0.244931       -0.668518                -0.622954   \n",
       "4               -0.244931       -0.488636                -0.296430   \n",
       "\n",
       "   BounceRates  ExitRates  PageValues  SpecialDay_0.2  ...  TrafficType_13  \\\n",
       "0     3.667189   3.229316   -0.317178               0  ...               0   \n",
       "1    -0.457683   1.171473   -0.317178               0  ...               0   \n",
       "2     3.667189   3.229316   -0.317178               0  ...               0   \n",
       "3     0.573535   1.994610   -0.317178               0  ...               0   \n",
       "4    -0.045196   0.142551   -0.317178               0  ...               0   \n",
       "\n",
       "   TrafficType_14  TrafficType_15  TrafficType_16  TrafficType_17  \\\n",
       "0               0               0               0               0   \n",
       "1               0               0               0               0   \n",
       "2               0               0               0               0   \n",
       "3               0               0               0               0   \n",
       "4               0               0               0               0   \n",
       "\n",
       "   TrafficType_18  TrafficType_19  TrafficType_20  VisitorType_Other  \\\n",
       "0               0               0               0                  0   \n",
       "1               0               0               0                  0   \n",
       "2               0               0               0                  0   \n",
       "3               0               0               0                  0   \n",
       "4               0               0               0                  0   \n",
       "\n",
       "   VisitorType_Returning_Visitor  \n",
       "0                              1  \n",
       "1                              1  \n",
       "2                              1  \n",
       "3                              1  \n",
       "4                              1  \n",
       "\n",
       "[5 rows x 71 columns]"
      ]
     },
     "execution_count": 10,
     "metadata": {},
     "output_type": "execute_result"
    }
   ],
   "source": [
    "## Concatenating numerical and dummy encoded categorical variables.\n",
    "X = pd.concat([scaled,encoded],axis = 1)\n",
    "X.head()"
   ]
  },
  {
   "cell_type": "markdown",
   "id": "fcf4898d",
   "metadata": {},
   "source": [
    "### Train-test split\n",
    "Before applying various classification techniques to predict the admission status of the student, let us split the dataset in train and test set."
   ]
  },
  {
   "cell_type": "code",
   "execution_count": 11,
   "id": "d310df1b",
   "metadata": {},
   "outputs": [],
   "source": [
    "xtrain,xtest,ytrain,ytest = train_test_split(X,target, train_size = 0.3,random_state = 0)"
   ]
  },
  {
   "cell_type": "markdown",
   "id": "12f295e2",
   "metadata": {},
   "source": [
    "## Base Model"
   ]
  },
  {
   "cell_type": "code",
   "execution_count": 12,
   "id": "7321b968",
   "metadata": {},
   "outputs": [],
   "source": [
    "lr=LogisticRegression()\n",
    "model=lr.fit(xtrain,ytrain)\n",
    "pred=model.predict(xtest)"
   ]
  },
  {
   "cell_type": "code",
   "execution_count": 13,
   "id": "36d43760",
   "metadata": {},
   "outputs": [
    {
     "name": "stdout",
     "output_type": "stream",
     "text": [
      "              precision    recall  f1-score   support\n",
      "\n",
      "           0       0.90      0.97      0.93      7271\n",
      "           1       0.73      0.42      0.53      1360\n",
      "\n",
      "    accuracy                           0.88      8631\n",
      "   macro avg       0.82      0.69      0.73      8631\n",
      "weighted avg       0.87      0.88      0.87      8631\n",
      "\n",
      "[[7066  205]\n",
      " [ 795  565]]\n"
     ]
    }
   ],
   "source": [
    "print(classification_report(ytest,pred))\n",
    "print(confusion_matrix(ytest,pred))"
   ]
  },
  {
   "cell_type": "markdown",
   "id": "4076e7b9",
   "metadata": {},
   "source": [
    "### Interpretation :\n",
    "1. Accurcay of this model is 88% which is not bad. \n",
    "2. Looking at the confusion matrix we see extreme identification, among almost 12000 customers the classification of true positives, false negatives, false positve is quite extreme.\n",
    "3. Since this is a base model we have a lot of scope to improve as in this model we have amost 71 features, so ideally we should go for PCA. Introduction \n",
    "of Principal Component Analysis would reduce the curse of dimensionality."
   ]
  },
  {
   "cell_type": "markdown",
   "id": "e3a4ee64",
   "metadata": {},
   "source": [
    "# Applying Principal Component Analysis"
   ]
  },
  {
   "cell_type": "markdown",
   "id": "7dd567f3",
   "metadata": {},
   "source": [
    "Principal component analysis is a dimensionality reduction algorithm. Having too many dimensions(features) in data can sometimes act as noise and can cause difficulties. When we need a more realistic perspective and we have many features on a given data set we use PCA to reduce the curse of dimensionality."
   ]
  },
  {
   "cell_type": "code",
   "execution_count": 71,
   "id": "2b00e4b6",
   "metadata": {},
   "outputs": [
    {
     "name": "stdout",
     "output_type": "stream",
     "text": [
      "Eigen Values [3.41118945e+00 1.68449158e+00 1.03895609e+00 1.00592542e+00\n",
      " 9.45531170e-01 4.23284128e-01 3.57249237e-01 3.20427120e-01\n",
      " 2.96302546e-01 2.82037819e-01 2.09669116e-01 1.88838014e-01\n",
      " 1.66392386e-01 1.43905627e-01 1.26724814e-01 1.21348922e-01\n",
      " 1.11780715e-01 9.36301925e-02 7.94473040e-02 7.47480487e-02\n",
      " 7.39764440e-02 6.91490772e-02 6.42086898e-02 6.04744985e-02\n",
      " 5.07839494e-02 4.63439885e-02 4.42233525e-02 4.07471724e-02\n",
      " 3.92436897e-02 3.54055145e-02 3.42282412e-02 3.28311545e-02\n",
      " 3.01924748e-02 2.89531522e-02 2.74148145e-02 2.51830114e-02\n",
      " 2.42102207e-02 2.31013652e-02 2.18527000e-02 1.99664565e-02\n",
      " 1.96896014e-02 1.88247013e-02 1.82180748e-02 1.58098518e-02\n",
      " 1.36240099e-02 1.29959454e-02 1.13563764e-02 1.02839751e-02\n",
      " 9.25196688e-03 9.16231390e-03 7.02138553e-03 5.05870597e-03\n",
      " 3.50212647e-03 3.28959013e-03 3.16329613e-03 2.99369250e-03\n",
      " 2.91540920e-03 2.21535648e-03 1.43510480e-03 1.35073131e-03\n",
      " 1.11933323e-03 1.04606425e-03 5.63896464e-04 8.83748264e-04\n",
      " 8.02225590e-04 7.77316763e-04 2.42009430e-04 8.05670644e-05\n",
      " 8.04921590e-05 8.08939309e-05 1.36555649e-18]\n",
      "Eigen vectors [[-3.80188267e-01  5.70398727e-02 -1.93931548e-01 ... -1.72807568e-05\n",
      "   5.60958921e-08  1.09804474e-18]\n",
      " [-3.26793583e-01  1.11712085e-01 -2.59920243e-01 ...  9.65227949e-06\n",
      "   1.19660327e-05 -5.31905158e-19]\n",
      " [-3.46699489e-01  2.80142772e-01 -3.37404691e-01 ... -9.98473005e-06\n",
      "  -8.16608059e-06  1.62417127e-18]\n",
      " ...\n",
      " [ 1.63932035e-03 -1.27713239e-03 -5.24549100e-03 ... -4.86547068e-04\n",
      "   2.27911527e-04  3.30015049e-16]\n",
      " [ 1.55654958e-03  1.53494106e-05 -3.11201339e-03 ... -2.89467313e-06\n",
      "   2.25118844e-04  4.38015749e-16]\n",
      " [-1.10009582e-03  6.22512766e-02  5.64915173e-02 ... -7.89663500e-06\n",
      "   2.61969012e-05  4.85071355e-18]]\n"
     ]
    }
   ],
   "source": [
    "cov_mat = np.cov(X.T)\n",
    "eig_val, eig_vectors = np.linalg.eig(cov_mat)\n",
    "print('Eigen Values',eig_val)\n",
    "print('Eigen vectors', eig_vectors)"
   ]
  },
  {
   "cell_type": "code",
   "execution_count": 72,
   "id": "ad56810c",
   "metadata": {},
   "outputs": [],
   "source": [
    "variation = []\n",
    "for i in eig_val:\n",
    "    variation.append(i/np.sum(eig_val)*100)"
   ]
  },
  {
   "cell_type": "code",
   "execution_count": 73,
   "id": "7dfdfbfd",
   "metadata": {},
   "outputs": [],
   "source": [
    "cum_var = np.cumsum(variation)"
   ]
  },
  {
   "cell_type": "markdown",
   "id": "49cc22be",
   "metadata": {},
   "source": [
    "## Logistic Regression for Classification"
   ]
  },
  {
   "cell_type": "code",
   "execution_count": 74,
   "id": "b200de80",
   "metadata": {
    "scrolled": true
   },
   "outputs": [
    {
     "name": "stdout",
     "output_type": "stream",
     "text": [
      "3 \n",
      " [[8188  134]\n",
      " [1270  272]]\n",
      "\n",
      "               precision    recall  f1-score   support\n",
      "\n",
      "           0       0.87      0.98      0.92      8322\n",
      "           1       0.67      0.18      0.28      1542\n",
      "\n",
      "    accuracy                           0.86      9864\n",
      "   macro avg       0.77      0.58      0.60      9864\n",
      "weighted avg       0.84      0.86      0.82      9864\n",
      "\n",
      "4 \n",
      " [[8229   93]\n",
      " [1242  300]]\n",
      "\n",
      "               precision    recall  f1-score   support\n",
      "\n",
      "           0       0.87      0.99      0.92      8322\n",
      "           1       0.76      0.19      0.31      1542\n",
      "\n",
      "    accuracy                           0.86      9864\n",
      "   macro avg       0.82      0.59      0.62      9864\n",
      "weighted avg       0.85      0.86      0.83      9864\n",
      "\n",
      "5 \n",
      " [[8125  197]\n",
      " [ 955  587]]\n",
      "\n",
      "               precision    recall  f1-score   support\n",
      "\n",
      "           0       0.89      0.98      0.93      8322\n",
      "           1       0.75      0.38      0.50      1542\n",
      "\n",
      "    accuracy                           0.88      9864\n",
      "   macro avg       0.82      0.68      0.72      9864\n",
      "weighted avg       0.87      0.88      0.87      9864\n",
      "\n",
      "6 \n",
      " [[8118  204]\n",
      " [ 956  586]]\n",
      "\n",
      "               precision    recall  f1-score   support\n",
      "\n",
      "           0       0.89      0.98      0.93      8322\n",
      "           1       0.74      0.38      0.50      1542\n",
      "\n",
      "    accuracy                           0.88      9864\n",
      "   macro avg       0.82      0.68      0.72      9864\n",
      "weighted avg       0.87      0.88      0.87      9864\n",
      "\n",
      "7 \n",
      " [[8116  206]\n",
      " [ 954  588]]\n",
      "\n",
      "               precision    recall  f1-score   support\n",
      "\n",
      "           0       0.89      0.98      0.93      8322\n",
      "           1       0.74      0.38      0.50      1542\n",
      "\n",
      "    accuracy                           0.88      9864\n",
      "   macro avg       0.82      0.68      0.72      9864\n",
      "weighted avg       0.87      0.88      0.87      9864\n",
      "\n",
      "8 \n",
      " [[8119  203]\n",
      " [ 949  593]]\n",
      "\n",
      "               precision    recall  f1-score   support\n",
      "\n",
      "           0       0.90      0.98      0.93      8322\n",
      "           1       0.74      0.38      0.51      1542\n",
      "\n",
      "    accuracy                           0.88      9864\n",
      "   macro avg       0.82      0.68      0.72      9864\n",
      "weighted avg       0.87      0.88      0.87      9864\n",
      "\n",
      "9 \n",
      " [[8121  201]\n",
      " [ 938  604]]\n",
      "\n",
      "               precision    recall  f1-score   support\n",
      "\n",
      "           0       0.90      0.98      0.93      8322\n",
      "           1       0.75      0.39      0.51      1542\n",
      "\n",
      "    accuracy                           0.88      9864\n",
      "   macro avg       0.82      0.68      0.72      9864\n",
      "weighted avg       0.87      0.88      0.87      9864\n",
      "\n",
      "10 \n",
      " [[8119  203]\n",
      " [ 937  605]]\n",
      "\n",
      "               precision    recall  f1-score   support\n",
      "\n",
      "           0       0.90      0.98      0.93      8322\n",
      "           1       0.75      0.39      0.51      1542\n",
      "\n",
      "    accuracy                           0.88      9864\n",
      "   macro avg       0.82      0.68      0.72      9864\n",
      "weighted avg       0.87      0.88      0.87      9864\n",
      "\n"
     ]
    }
   ],
   "source": [
    "for i in range(3,11):\n",
    "    pca = PCA(n_components = i, random_state = 0)\n",
    "    pca_da = pca.fit_transform(X)\n",
    "    xtrain,xtest, ytrain,ytest = train_test_split(pca_da,target,train_size = 0.2, random_state = 0)\n",
    "    lr = LogisticRegression()\n",
    "    pred = lr.fit(xtrain,ytrain).predict(xtest)\n",
    "    print(i, '\\n', confusion_matrix(ytest,pred))\n",
    "    print('\\n', classification_report(ytest,pred))"
   ]
  },
  {
   "cell_type": "code",
   "execution_count": 75,
   "id": "4f8f5591",
   "metadata": {},
   "outputs": [
    {
     "name": "stdout",
     "output_type": "stream",
     "text": [
      "[0.89618816 0.8783455  0.89132198 0.87591241 0.88158962 0.88402271\n",
      " 0.89213301 0.87672344 0.88321168 0.88321168]\n",
      "0.8842660178426602\n"
     ]
    }
   ],
   "source": [
    "# Stratified cross validation : it mostly used when data is imbalanced\n",
    "skf=StratifiedKFold(n_splits=10,shuffle=True)\n",
    "skfscore=cross_val_score(lr,X,target,cv=skf)\n",
    "print(skfscore)\n",
    "print(skfscore.mean())"
   ]
  },
  {
   "cell_type": "markdown",
   "id": "89ad679d",
   "metadata": {},
   "source": [
    "### Interpretation :\n",
    "1. Accuracy of a model describes the sum of true positives and true negatives divided by total samples. In the above logistic regression model\n",
    "we can see that accuracy is 88% for n_components greater than 4 and is 86% for n_components less than 4, but since our data is imbalanced thus trusting accuracy is not a good method.\n",
    "\n",
    "2. Talking about the precison score it is the ability of a classifier not to label an instance positive that is actually negative. It simply means \n",
    "the accuracy of positive predictions. In online business when a firm looks to identify whether a customer would generate revenue with the given parameters\n",
    "it is important for them to know how good is the precision score. For our dataset, since it is imbalanced the values for precision score aren't quite satisfying in identyfying whether revenue is \n",
    "genereated or not. We can see that from n_components is 5 all the preciison values are either 74% or 75% when revenue is 1.\n",
    "\n",
    "3. Talking about the recall score it is the ability of a classifier to find all positive instances. In simplier terms, recall score \n",
    "is fraction of positives that were correctly identified. In online business when a firm looks to identify whether a customer would generate revenue with the given parameters\n",
    "it is important for them to know how good is the recall score. For our dataset, since it is imbalanced the values for recall score aren't quite satisfying in identyfying whether revenue is \n",
    "genereated or not. We can see that from n_components is 5 all the recall values are either 38% or 39% when revenue is 1.\n",
    "\n",
    "4. Similarly for the F1 score (harmonic mean of precision and recall score) of an online business is varying a lot for when revenue is genereated and when revenue is not \n",
    "generated. Thus, we can clearly see the negative impact of dataset being imbalanced. We can see that from n_components is 5 all the F1 score values are either 50% or 51% when revenue is 1.\n",
    "\n",
    "5. Looking at the cross-val score we can see that average accuracy is 88% for logistic regression classifier. Hence, our results are validated by this average that accuracy in this model is 88%.\n",
    "\n",
    "6. After looking at all parameters we can say that after n_components is 5 all the results are pretty similar, hence ideal value of n_components in logistic regression is 5.\n",
    "\n",
    "6. For an online business if a customer can generate revenue and model idetifies it as false negative then it can cost a lot of revenue. As seen in confusion matrix we have extremely poor performance in correctly classifiying customers. Thus, low recall score and low precision score for identifying if revenue generated is worissome."
   ]
  },
  {
   "cell_type": "markdown",
   "id": "8368bb62",
   "metadata": {},
   "source": [
    "## Random-Forest for classification"
   ]
  },
  {
   "cell_type": "code",
   "execution_count": 76,
   "id": "1daebfb0",
   "metadata": {
    "scrolled": true
   },
   "outputs": [
    {
     "name": "stdout",
     "output_type": "stream",
     "text": [
      "3 \n",
      " [[8083  239]\n",
      " [1051  491]]\n",
      "\n",
      "               precision    recall  f1-score   support\n",
      "\n",
      "           0       0.88      0.97      0.93      8322\n",
      "           1       0.67      0.32      0.43      1542\n",
      "\n",
      "    accuracy                           0.87      9864\n",
      "   macro avg       0.78      0.64      0.68      9864\n",
      "weighted avg       0.85      0.87      0.85      9864\n",
      "\n",
      "4 \n",
      " [[8119  203]\n",
      " [1038  504]]\n",
      "\n",
      "               precision    recall  f1-score   support\n",
      "\n",
      "           0       0.89      0.98      0.93      8322\n",
      "           1       0.71      0.33      0.45      1542\n",
      "\n",
      "    accuracy                           0.87      9864\n",
      "   macro avg       0.80      0.65      0.69      9864\n",
      "weighted avg       0.86      0.87      0.85      9864\n",
      "\n",
      "5 \n",
      " [[8019  303]\n",
      " [ 785  757]]\n",
      "\n",
      "               precision    recall  f1-score   support\n",
      "\n",
      "           0       0.91      0.96      0.94      8322\n",
      "           1       0.71      0.49      0.58      1542\n",
      "\n",
      "    accuracy                           0.89      9864\n",
      "   macro avg       0.81      0.73      0.76      9864\n",
      "weighted avg       0.88      0.89      0.88      9864\n",
      "\n",
      "6 \n",
      " [[8043  279]\n",
      " [ 812  730]]\n",
      "\n",
      "               precision    recall  f1-score   support\n",
      "\n",
      "           0       0.91      0.97      0.94      8322\n",
      "           1       0.72      0.47      0.57      1542\n",
      "\n",
      "    accuracy                           0.89      9864\n",
      "   macro avg       0.82      0.72      0.75      9864\n",
      "weighted avg       0.88      0.89      0.88      9864\n",
      "\n",
      "7 \n",
      " [[8055  267]\n",
      " [ 832  710]]\n",
      "\n",
      "               precision    recall  f1-score   support\n",
      "\n",
      "           0       0.91      0.97      0.94      8322\n",
      "           1       0.73      0.46      0.56      1542\n",
      "\n",
      "    accuracy                           0.89      9864\n",
      "   macro avg       0.82      0.71      0.75      9864\n",
      "weighted avg       0.88      0.89      0.88      9864\n",
      "\n",
      "8 \n",
      " [[8084  238]\n",
      " [ 854  688]]\n",
      "\n",
      "               precision    recall  f1-score   support\n",
      "\n",
      "           0       0.90      0.97      0.94      8322\n",
      "           1       0.74      0.45      0.56      1542\n",
      "\n",
      "    accuracy                           0.89      9864\n",
      "   macro avg       0.82      0.71      0.75      9864\n",
      "weighted avg       0.88      0.89      0.88      9864\n",
      "\n",
      "9 \n",
      " [[8058  264]\n",
      " [ 822  720]]\n",
      "\n",
      "               precision    recall  f1-score   support\n",
      "\n",
      "           0       0.91      0.97      0.94      8322\n",
      "           1       0.73      0.47      0.57      1542\n",
      "\n",
      "    accuracy                           0.89      9864\n",
      "   macro avg       0.82      0.72      0.75      9864\n",
      "weighted avg       0.88      0.89      0.88      9864\n",
      "\n",
      "10 \n",
      " [[8050  272]\n",
      " [ 837  705]]\n",
      "\n",
      "               precision    recall  f1-score   support\n",
      "\n",
      "           0       0.91      0.97      0.94      8322\n",
      "           1       0.72      0.46      0.56      1542\n",
      "\n",
      "    accuracy                           0.89      9864\n",
      "   macro avg       0.81      0.71      0.75      9864\n",
      "weighted avg       0.88      0.89      0.88      9864\n",
      "\n"
     ]
    }
   ],
   "source": [
    "for i in range(3,11):\n",
    "    pca = PCA(n_components = i, random_state = 0)\n",
    "    pca_da = pca.fit_transform(X)\n",
    "    xtrain,xtest, ytrain,ytest = train_test_split(pca_da,target,train_size = 0.2, random_state = 0)\n",
    "    rf = RandomForestClassifier()\n",
    "    pred = rf.fit(xtrain,ytrain).predict(xtest)\n",
    "    print(i, '\\n', confusion_matrix(ytest,pred))\n",
    "    print('\\n', classification_report(ytest,pred))"
   ]
  },
  {
   "cell_type": "code",
   "execution_count": 43,
   "id": "621d2074",
   "metadata": {},
   "outputs": [
    {
     "name": "stdout",
     "output_type": "stream",
     "text": [
      "[0.89699919 0.90105434 0.89781022 0.90105434 0.90510949 0.90673155\n",
      " 0.90105434 0.9026764  0.89537713 0.90997567]\n",
      "0.9017842660178428\n"
     ]
    }
   ],
   "source": [
    "skf=StratifiedKFold(n_splits=10,shuffle=True)\n",
    "skfscore=cross_val_score(rf,X,target,cv=skf)\n",
    "print(skfscore)\n",
    "print(skfscore.mean())"
   ]
  },
  {
   "cell_type": "markdown",
   "id": "19164796",
   "metadata": {},
   "source": [
    "### Interpretation :\n",
    "    \n",
    "1. In the above random forest classifier model we can see that accuracy has increased to only 89% for n_components greater than 6 and 87% when n_components is either 3 or 4. But since again our data is imbalanced thus trusting accuracy is not a good method.\n",
    "\n",
    "2. Talking about the precison score for our dataset, since it is imbalanced the values for precision score vary a lot and aren't quite satisfying in identyfying whether revenue is genereated or not. We can see that when n_components is 8 precision score is 74% rest for all the n_componets after 5 precisison values are either 72% or 71% when revenue is 1.\n",
    "\n",
    "3. Talking about the recall score for our dataset, since it is imbalanced the values for recall score aren't quite satisfying in identyfying whether revenue is genereated or not. We can see that from n_components 5 recall score lies in range 45% to 49%  when revenue is 1.\n",
    "\n",
    "4. Similarly for the F1 score (harmonic mean of precision and recall score) of an online business is varying a lot for when revenue is genereated and when revenue is not generated. Thus, we can clearly see the negative impact of dataset being imbalanced. We can see that from n_components 5 F1 score lies in range 56% to 58% rest when revenue is 1.\n",
    "\n",
    "5. Looking at the cross-val score we can see that average accuracy is 89% for random forest classifier.Hence, our results are validated by this average that accuracy in this model is close to 90%.\n",
    "\n",
    "6. Under this model, since maximum values for precision, recall and F1 score vary in different components thus after closely looking at all the ranges for each score we can say that when n_component is 5 or 6 we get the best precision, recall and F1 score.\n",
    "\n",
    "7. Though, after introducing random forest classifier in confusion matrix we have improved a bit but still we can see poor performance in correctly classifiying customers. Precison, recall and F1 score have increased a bit but are still low for predicting if revenue generated or not."
   ]
  },
  {
   "cell_type": "markdown",
   "id": "05623696",
   "metadata": {},
   "source": [
    "## LightGBM model"
   ]
  },
  {
   "cell_type": "code",
   "execution_count": 77,
   "id": "4e8f2c96",
   "metadata": {
    "scrolled": true
   },
   "outputs": [
    {
     "name": "stdout",
     "output_type": "stream",
     "text": [
      "3 \n",
      " [[7965  357]\n",
      " [ 999  543]]\n",
      "\n",
      "               precision    recall  f1-score   support\n",
      "\n",
      "           0       0.89      0.96      0.92      8322\n",
      "           1       0.60      0.35      0.44      1542\n",
      "\n",
      "    accuracy                           0.86      9864\n",
      "   macro avg       0.75      0.65      0.68      9864\n",
      "weighted avg       0.84      0.86      0.85      9864\n",
      "\n",
      "4 \n",
      " [[8019  303]\n",
      " [1002  540]]\n",
      "\n",
      "               precision    recall  f1-score   support\n",
      "\n",
      "           0       0.89      0.96      0.92      8322\n",
      "           1       0.64      0.35      0.45      1542\n",
      "\n",
      "    accuracy                           0.87      9864\n",
      "   macro avg       0.76      0.66      0.69      9864\n",
      "weighted avg       0.85      0.87      0.85      9864\n",
      "\n",
      "5 \n",
      " [[7908  414]\n",
      " [ 736  806]]\n",
      "\n",
      "               precision    recall  f1-score   support\n",
      "\n",
      "           0       0.91      0.95      0.93      8322\n",
      "           1       0.66      0.52      0.58      1542\n",
      "\n",
      "    accuracy                           0.88      9864\n",
      "   macro avg       0.79      0.74      0.76      9864\n",
      "weighted avg       0.88      0.88      0.88      9864\n",
      "\n",
      "6 \n",
      " [[7972  350]\n",
      " [ 787  755]]\n",
      "\n",
      "               precision    recall  f1-score   support\n",
      "\n",
      "           0       0.91      0.96      0.93      8322\n",
      "           1       0.68      0.49      0.57      1542\n",
      "\n",
      "    accuracy                           0.88      9864\n",
      "   macro avg       0.80      0.72      0.75      9864\n",
      "weighted avg       0.87      0.88      0.88      9864\n",
      "\n",
      "7 \n",
      " [[7973  349]\n",
      " [ 771  771]]\n",
      "\n",
      "               precision    recall  f1-score   support\n",
      "\n",
      "           0       0.91      0.96      0.93      8322\n",
      "           1       0.69      0.50      0.58      1542\n",
      "\n",
      "    accuracy                           0.89      9864\n",
      "   macro avg       0.80      0.73      0.76      9864\n",
      "weighted avg       0.88      0.89      0.88      9864\n",
      "\n",
      "8 \n",
      " [[7976  346]\n",
      " [ 755  787]]\n",
      "\n",
      "               precision    recall  f1-score   support\n",
      "\n",
      "           0       0.91      0.96      0.94      8322\n",
      "           1       0.69      0.51      0.59      1542\n",
      "\n",
      "    accuracy                           0.89      9864\n",
      "   macro avg       0.80      0.73      0.76      9864\n",
      "weighted avg       0.88      0.89      0.88      9864\n",
      "\n",
      "9 \n",
      " [[7937  385]\n",
      " [ 736  806]]\n",
      "\n",
      "               precision    recall  f1-score   support\n",
      "\n",
      "           0       0.92      0.95      0.93      8322\n",
      "           1       0.68      0.52      0.59      1542\n",
      "\n",
      "    accuracy                           0.89      9864\n",
      "   macro avg       0.80      0.74      0.76      9864\n",
      "weighted avg       0.88      0.89      0.88      9864\n",
      "\n",
      "10 \n",
      " [[7975  347]\n",
      " [ 750  792]]\n",
      "\n",
      "               precision    recall  f1-score   support\n",
      "\n",
      "           0       0.91      0.96      0.94      8322\n",
      "           1       0.70      0.51      0.59      1542\n",
      "\n",
      "    accuracy                           0.89      9864\n",
      "   macro avg       0.80      0.74      0.76      9864\n",
      "weighted avg       0.88      0.89      0.88      9864\n",
      "\n"
     ]
    }
   ],
   "source": [
    "for i in range(3,11):\n",
    "    pca = PCA(n_components = i, random_state = 0)\n",
    "    pca_da = pca.fit_transform(X)\n",
    "    xtrain,xtest, ytrain,ytest = train_test_split(pca_da,target,train_size = 0.2, random_state = 0)\n",
    "    lgbm=lgm.LGBMClassifier()\n",
    "    pred = lgbm.fit(xtrain,ytrain).predict(xtest)\n",
    "    print(i, '\\n', confusion_matrix(ytest,pred))\n",
    "    print('\\n', classification_report(ytest,pred))"
   ]
  },
  {
   "cell_type": "code",
   "execution_count": 78,
   "id": "8612e63a",
   "metadata": {},
   "outputs": [
    {
     "name": "stdout",
     "output_type": "stream",
     "text": [
      "[0.91159773 0.89375507 0.9026764  0.90186537 0.89618816 0.90186537\n",
      " 0.89294404 0.9107867  0.90348743 0.90429846]\n",
      "0.9019464720194647\n"
     ]
    }
   ],
   "source": [
    "skf=StratifiedKFold(n_splits=10,shuffle=True)\n",
    "skfscore=cross_val_score(lgbm,X,target,cv=skf)\n",
    "print(skfscore)\n",
    "print(skfscore.mean())"
   ]
  },
  {
   "cell_type": "markdown",
   "id": "9b8f1def",
   "metadata": {},
   "source": [
    "### Interpretation :\n",
    "1. In the above lightgbm classifier model we can see that accuracy has increased to only 89% for n_components greater than 7 and 88% when n_components is either 5 or 6. But since again our data is imbalanced thus trusting accuracy is not a good method.\n",
    "\n",
    "2. We can see that when n_components is greater than 7 precision score is 68% to 70% and when n_componets is either 5 or 6 precision values is 66% and 68% when revenue is 1.\n",
    "\n",
    "3. We can see that when n_components is greater than 7 recall score is 50% to 52% and when n_componets is either 5 or 6 recall values is 52% and 49% when revenue is 1.\n",
    "\n",
    "4. We can see that when n_components is greater than 7 F1 score score is 58% or 59% and when n_componets is either 5 or 6 F1 score is 57% and 58% when revenue is 1.\n",
    "\n",
    "5. Looking at the cross-val score we can see that average accuracy is 90% for lightgbm classifier. Hence, our results are validated by this average that accuracy in this model is close to 90%.\n",
    "\n",
    "6. Under this model, since maximum values for precision, recall and F1 score vary in different components thus after closely looking at all the ranges for each score we can say that when n_component is 6 or 7 we get the almost similar precision, recall and F1 score with 1% here and there.\n",
    "\n",
    "7. While looking at confusion matrix in this model we can also see that there is very minor \n",
    "difference in false negative and true positives. This means that if an online business follows this \n",
    "model to predict if a customer will generate revenue he would have almost similar values for wrongly \n",
    "identyfying revenue generating customers and truely indentfying a customer will generate reveue."
   ]
  },
  {
   "cell_type": "markdown",
   "id": "91da0aed",
   "metadata": {},
   "source": [
    "### Final Interpretation:\n",
    "    \n",
    "1. While comparing results for all our models we can see that accuracy for each model has been around 89% to 90%, which is a good fit. The \n",
    "introduction of cross-val in model was to identify which model gives best average accuracy and works best for online business \n",
    "owners to correctly predict revenue generating customers so that the marketing team works best to capture these customers.\n",
    "\n",
    "\n",
    "2. While plotting the roc curve for all the models below, we can see that Random Forest Classifier and Logistic Regression model have a close tie in ROC curve.\n",
    "\n",
    "\n",
    "3. After looking at all parameters we can say that Random Forest Classifier is the best model as it gives the best accuracy and has a good auc score.\n",
    "\n",
    "\n",
    "3. Since, our target varibale is imbalanced we could see it's effect on our results as the variation in recall, precison and F1 score was quite high \n",
    "for classifiying revenue generating customers.\n",
    "\n",
    "\n",
    "4. Our results would have been much better if we had a balanced dataset, this is proved by us below as when we took a perfectly balanced random sample of 4000 customers\n",
    "we saw that this model works best and have a good recall, precision and F1 score. For a basic random forest model the variation of all the three scores is very nominal, thus our small experiment clearly indicates that our modelling and results are great according to the imbalanced dataset we have. A balanced dataset is what we need to improve recall, F1 or precision score.\n",
    "\n",
    "\n",
    "5. Our model is very helpful for online business owners as in current times everything is shifting online. Offline purchasing owners have advantage of interacting with the customer which tells them a lot about whether\n",
    "that customer would purchase an item or not, but in online business customers information can only seen through his online behaviour. Thus it becomes really important to understand the customer's intention of whether he would \n",
    "generate revenue or not and accordingly business owners can use their marketing strategies to target potential customers by giving them better discounts etc.\n",
    "\n",
    "\n",
    "6. The only limitation that we think of our model is that if we had a balanced dataset it would have worked so much better in identifying revenue generating customers."
   ]
  },
  {
   "cell_type": "markdown",
   "id": "a44484fe",
   "metadata": {},
   "source": [
    "## Plotting the ROC curve"
   ]
  },
  {
   "cell_type": "code",
   "execution_count": 79,
   "id": "9cd53e96",
   "metadata": {},
   "outputs": [],
   "source": [
    "classifier1 = LogisticRegression()\n",
    "classifier2 = RandomForestClassifier()\n",
    "classifier3 = lgm.LGBMClassifier()\n",
    "probas1_ = classifier1.fit(xtrain, ytrain).predict_proba(xtest)\n",
    "probas2_ = classifier2.fit(xtrain, ytrain).predict_proba(xtest)\n",
    "probas3_ = classifier3.fit(xtrain, ytrain).predict_proba(xtest)"
   ]
  },
  {
   "cell_type": "code",
   "execution_count": 80,
   "id": "a54756a0",
   "metadata": {},
   "outputs": [
    {
     "name": "stdout",
     "output_type": "stream",
     "text": [
      "Area under the ROC curve for Logistic Regression : 0.892741\n",
      "Area under the ROC curve for Random Forest : 0.890619\n",
      "Area under the ROC curve for LightGBM : 0.890456\n"
     ]
    }
   ],
   "source": [
    "## Compute ROC curve and area the curve for logistic Regression \n",
    "fpr1, tpr1, thresholds1 = roc_curve(ytest, probas1_[:, 1])\n",
    "roc_auc1 = auc(fpr1, tpr1)\n",
    "print(\"Area under the ROC curve for Logistic Regression : %f\" % roc_auc1)\n",
    "## Compute ROC curve and area the curve for Random Forest Classifier\n",
    "fpr2, tpr2, thresholds2 = roc_curve(ytest, probas2_[:, 1])\n",
    "roc_auc2 = auc(fpr2, tpr2)\n",
    "print(\"Area under the ROC curve for Random Forest : %f\" % roc_auc2)\n",
    "## Compute ROC curve and area the curve for LightGBM Classifier\n",
    "fpr3, tpr3, thresholds3 = roc_curve(ytest, probas3_[:, 1])\n",
    "roc_auc3 = auc(fpr3, tpr3)\n",
    "print(\"Area under the ROC curve for LightGBM : %f\" % roc_auc3)"
   ]
  },
  {
   "cell_type": "code",
   "execution_count": 81,
   "id": "9a99e683",
   "metadata": {},
   "outputs": [
    {
     "data": {
      "image/png": "[encoded data removed]",
      "text/plain": [
       "<Figure size 1080x576 with 1 Axes>"
      ]
     },
     "metadata": {
      "needs_background": "light"
     },
     "output_type": "display_data"
    }
   ],
   "source": [
    "# Ploting the ROC\n",
    "# Ploting ROC curve\n",
    "pl.clf()\n",
    "pl.plot(fpr1, tpr1, label='ROC curve for Logistic Regression (area = %0.2f)' % roc_auc1)\n",
    "pl.plot(fpr2, tpr2, label='ROC curve for Random Forest Classifier (area = %0.2f)' % roc_auc2)\n",
    "pl.plot(fpr3, tpr3, label='ROC curve for LightGBM Classifier (area = %0.2f)' % roc_auc3)\n",
    "pl.plot([0, 1], [0, 1], 'k--')\n",
    "pl.xlim([0.0, 1.0])\n",
    "pl.ylim([0.0, 1.0])\n",
    "pl.xlabel('False Positive Rate')\n",
    "pl.ylabel('True Positive Rate')\n",
    "pl.title('Receiverrating characteristic')\n",
    "pl.legend(loc=\"lower right\")\n",
    "pl.show()"
   ]
  },
  {
   "cell_type": "markdown",
   "id": "6a4ee030",
   "metadata": {},
   "source": [
    "# Checking our results if we had a balanced dataset"
   ]
  },
  {
   "cell_type": "code",
   "execution_count": 49,
   "id": "8a9c7b59",
   "metadata": {},
   "outputs": [],
   "source": [
    "d1_0=d1[d1['Revenue']==0]"
   ]
  },
  {
   "cell_type": "code",
   "execution_count": 50,
   "id": "3696aaab",
   "metadata": {},
   "outputs": [],
   "source": [
    "## creating a sample of 1908 customers who didn't generate revenue.\n",
    "d1_0samp=d1_0.sample(n=1908,ignore_index=True)"
   ]
  },
  {
   "cell_type": "code",
   "execution_count": 51,
   "id": "dce17746",
   "metadata": {},
   "outputs": [],
   "source": [
    "## creating a table for 1908 customers who generated revenue\n",
    "d1_1=d1[d1.Revenue.isin([1])]\n",
    "d1_1.reset_index(drop=True,inplace=True)"
   ]
  },
  {
   "cell_type": "code",
   "execution_count": 52,
   "id": "cfb35fd2",
   "metadata": {},
   "outputs": [
    {
     "data": {
      "text/html": [
       "<div>\n",
       "<style scoped>\n",
       "    .dataframe tbody tr th:only-of-type {\n",
       "        vertical-align: middle;\n",
       "    }\n",
       "\n",
       "    .dataframe tbody tr th {\n",
       "        vertical-align: top;\n",
       "    }\n",
       "\n",
       "    .dataframe thead th {\n",
       "        text-align: right;\n",
       "    }\n",
       "</style>\n",
       "<table border=\"1\" class=\"dataframe\">\n",
       "  <thead>\n",
       "    <tr style=\"text-align: right;\">\n",
       "      <th></th>\n",
       "      <th>Administrative</th>\n",
       "      <th>Administrative_Duration</th>\n",
       "      <th>Informational</th>\n",
       "      <th>Informational_Duration</th>\n",
       "      <th>ProductRelated</th>\n",
       "      <th>ProductRelated_Duration</th>\n",
       "      <th>BounceRates</th>\n",
       "      <th>ExitRates</th>\n",
       "      <th>PageValues</th>\n",
       "      <th>SpecialDay</th>\n",
       "      <th>Month</th>\n",
       "      <th>OperatingSystems</th>\n",
       "      <th>Browser</th>\n",
       "      <th>Region</th>\n",
       "      <th>TrafficType</th>\n",
       "      <th>VisitorType</th>\n",
       "      <th>Weekend</th>\n",
       "      <th>Revenue</th>\n",
       "    </tr>\n",
       "  </thead>\n",
       "  <tbody>\n",
       "    <tr>\n",
       "      <th>0</th>\n",
       "      <td>6</td>\n",
       "      <td>96.0</td>\n",
       "      <td>6</td>\n",
       "      <td>251.666667</td>\n",
       "      <td>16</td>\n",
       "      <td>261.000000</td>\n",
       "      <td>0.012821</td>\n",
       "      <td>0.029872</td>\n",
       "      <td>0.000000</td>\n",
       "      <td>0.0</td>\n",
       "      <td>Nov</td>\n",
       "      <td>3</td>\n",
       "      <td>2</td>\n",
       "      <td>7</td>\n",
       "      <td>1</td>\n",
       "      <td>Returning_Visitor</td>\n",
       "      <td>True</td>\n",
       "      <td>0</td>\n",
       "    </tr>\n",
       "    <tr>\n",
       "      <th>1</th>\n",
       "      <td>3</td>\n",
       "      <td>52.9</td>\n",
       "      <td>0</td>\n",
       "      <td>0.000000</td>\n",
       "      <td>8</td>\n",
       "      <td>278.580000</td>\n",
       "      <td>0.000000</td>\n",
       "      <td>0.010000</td>\n",
       "      <td>26.181807</td>\n",
       "      <td>0.0</td>\n",
       "      <td>Jul</td>\n",
       "      <td>1</td>\n",
       "      <td>1</td>\n",
       "      <td>1</td>\n",
       "      <td>2</td>\n",
       "      <td>New_Visitor</td>\n",
       "      <td>False</td>\n",
       "      <td>0</td>\n",
       "    </tr>\n",
       "    <tr>\n",
       "      <th>2</th>\n",
       "      <td>3</td>\n",
       "      <td>166.0</td>\n",
       "      <td>0</td>\n",
       "      <td>0.000000</td>\n",
       "      <td>2</td>\n",
       "      <td>134.000000</td>\n",
       "      <td>0.000000</td>\n",
       "      <td>0.030000</td>\n",
       "      <td>0.000000</td>\n",
       "      <td>0.8</td>\n",
       "      <td>May</td>\n",
       "      <td>3</td>\n",
       "      <td>2</td>\n",
       "      <td>8</td>\n",
       "      <td>2</td>\n",
       "      <td>Returning_Visitor</td>\n",
       "      <td>False</td>\n",
       "      <td>0</td>\n",
       "    </tr>\n",
       "    <tr>\n",
       "      <th>3</th>\n",
       "      <td>0</td>\n",
       "      <td>0.0</td>\n",
       "      <td>0</td>\n",
       "      <td>0.000000</td>\n",
       "      <td>1</td>\n",
       "      <td>0.000000</td>\n",
       "      <td>0.200000</td>\n",
       "      <td>0.200000</td>\n",
       "      <td>0.000000</td>\n",
       "      <td>0.0</td>\n",
       "      <td>Sep</td>\n",
       "      <td>1</td>\n",
       "      <td>1</td>\n",
       "      <td>2</td>\n",
       "      <td>2</td>\n",
       "      <td>Returning_Visitor</td>\n",
       "      <td>False</td>\n",
       "      <td>0</td>\n",
       "    </tr>\n",
       "    <tr>\n",
       "      <th>4</th>\n",
       "      <td>1</td>\n",
       "      <td>29.0</td>\n",
       "      <td>0</td>\n",
       "      <td>0.000000</td>\n",
       "      <td>25</td>\n",
       "      <td>381.357143</td>\n",
       "      <td>0.000000</td>\n",
       "      <td>0.004167</td>\n",
       "      <td>0.000000</td>\n",
       "      <td>0.8</td>\n",
       "      <td>May</td>\n",
       "      <td>2</td>\n",
       "      <td>2</td>\n",
       "      <td>1</td>\n",
       "      <td>2</td>\n",
       "      <td>New_Visitor</td>\n",
       "      <td>False</td>\n",
       "      <td>0</td>\n",
       "    </tr>\n",
       "  </tbody>\n",
       "</table>\n",
       "</div>"
      ],
      "text/plain": [
       "   Administrative  Administrative_Duration  Informational  \\\n",
       "0               6                     96.0              6   \n",
       "1               3                     52.9              0   \n",
       "2               3                    166.0              0   \n",
       "3               0                      0.0              0   \n",
       "4               1                     29.0              0   \n",
       "\n",
       "   Informational_Duration  ProductRelated  ProductRelated_Duration  \\\n",
       "0              251.666667              16               261.000000   \n",
       "1                0.000000               8               278.580000   \n",
       "2                0.000000               2               134.000000   \n",
       "3                0.000000               1                 0.000000   \n",
       "4                0.000000              25               381.357143   \n",
       "\n",
       "   BounceRates  ExitRates  PageValues SpecialDay Month OperatingSystems  \\\n",
       "0     0.012821   0.029872    0.000000        0.0   Nov                3   \n",
       "1     0.000000   0.010000   26.181807        0.0   Jul                1   \n",
       "2     0.000000   0.030000    0.000000        0.8   May                3   \n",
       "3     0.200000   0.200000    0.000000        0.0   Sep                1   \n",
       "4     0.000000   0.004167    0.000000        0.8   May                2   \n",
       "\n",
       "  Browser Region TrafficType        VisitorType  Weekend  Revenue  \n",
       "0       2      7           1  Returning_Visitor     True        0  \n",
       "1       1      1           2        New_Visitor    False        0  \n",
       "2       2      8           2  Returning_Visitor    False        0  \n",
       "3       1      2           2  Returning_Visitor    False        0  \n",
       "4       2      1           2        New_Visitor    False        0  "
      ]
     },
     "execution_count": 52,
     "metadata": {},
     "output_type": "execute_result"
    }
   ],
   "source": [
    "new=pd.concat([d1_0samp,d1_1]).reset_index(drop=True)\n",
    "new.head()"
   ]
  },
  {
   "cell_type": "code",
   "execution_count": 53,
   "id": "c2d6d092",
   "metadata": {},
   "outputs": [
    {
     "data": {
      "text/plain": [
       "0    1908\n",
       "1    1908\n",
       "Name: Revenue, dtype: int64"
      ]
     },
     "execution_count": 53,
     "metadata": {},
     "output_type": "execute_result"
    }
   ],
   "source": [
    "new.Revenue.value_counts()\n",
    "## we can see that we have equal number of both categories."
   ]
  },
  {
   "cell_type": "markdown",
   "id": "a022b899",
   "metadata": {},
   "source": [
    "## Building a model on this dataset"
   ]
  },
  {
   "cell_type": "code",
   "execution_count": 54,
   "id": "c8127ce9",
   "metadata": {},
   "outputs": [],
   "source": [
    "target = new.Revenue\n",
    "feature = new.drop('Revenue', axis = 1)"
   ]
  },
  {
   "cell_type": "code",
   "execution_count": 55,
   "id": "e160595d",
   "metadata": {},
   "outputs": [],
   "source": [
    "## filtering numerical and categorical variables\n",
    "num = feature.select_dtypes(include = 'number')\n",
    "cat = feature.select_dtypes(include = 'object')"
   ]
  },
  {
   "cell_type": "code",
   "execution_count": 56,
   "id": "8c51e3ca",
   "metadata": {},
   "outputs": [],
   "source": [
    "## scaling the numerical variables\n",
    "sc = StandardScaler()\n",
    "scaled = sc.fit_transform(num)\n",
    "scaled = pd.DataFrame(data = scaled, columns = num.columns)"
   ]
  },
  {
   "cell_type": "code",
   "execution_count": 57,
   "id": "4fcceac5",
   "metadata": {},
   "outputs": [],
   "source": [
    "## encoding the categorical variables\n",
    "encoded = pd.get_dummies(data = cat, drop_first = True)"
   ]
  },
  {
   "cell_type": "code",
   "execution_count": 58,
   "id": "dc875af1",
   "metadata": {},
   "outputs": [],
   "source": [
    "scaled.reset_index(drop = True, inplace = True)\n",
    "encoded.reset_index(drop = True, inplace = True)"
   ]
  },
  {
   "cell_type": "code",
   "execution_count": 59,
   "id": "d430c4dd",
   "metadata": {},
   "outputs": [
    {
     "data": {
      "text/html": [
       "<div>\n",
       "<style scoped>\n",
       "    .dataframe tbody tr th:only-of-type {\n",
       "        vertical-align: middle;\n",
       "    }\n",
       "\n",
       "    .dataframe tbody tr th {\n",
       "        vertical-align: top;\n",
       "    }\n",
       "\n",
       "    .dataframe thead th {\n",
       "        text-align: right;\n",
       "    }\n",
       "</style>\n",
       "<table border=\"1\" class=\"dataframe\">\n",
       "  <thead>\n",
       "    <tr style=\"text-align: right;\">\n",
       "      <th></th>\n",
       "      <th>Administrative</th>\n",
       "      <th>Administrative_Duration</th>\n",
       "      <th>Informational</th>\n",
       "      <th>Informational_Duration</th>\n",
       "      <th>ProductRelated</th>\n",
       "      <th>ProductRelated_Duration</th>\n",
       "      <th>BounceRates</th>\n",
       "      <th>ExitRates</th>\n",
       "      <th>PageValues</th>\n",
       "      <th>SpecialDay_0.2</th>\n",
       "      <th>...</th>\n",
       "      <th>TrafficType_11</th>\n",
       "      <th>TrafficType_13</th>\n",
       "      <th>TrafficType_14</th>\n",
       "      <th>TrafficType_15</th>\n",
       "      <th>TrafficType_16</th>\n",
       "      <th>TrafficType_18</th>\n",
       "      <th>TrafficType_19</th>\n",
       "      <th>TrafficType_20</th>\n",
       "      <th>VisitorType_Other</th>\n",
       "      <th>VisitorType_Returning_Visitor</th>\n",
       "    </tr>\n",
       "  </thead>\n",
       "  <tbody>\n",
       "    <tr>\n",
       "      <th>0</th>\n",
       "      <td>0.924493</td>\n",
       "      <td>0.005048</td>\n",
       "      <td>3.994002</td>\n",
       "      <td>1.301288</td>\n",
       "      <td>-0.438133</td>\n",
       "      <td>-0.589386</td>\n",
       "      <td>-0.058805</td>\n",
       "      <td>-0.087026</td>\n",
       "      <td>-0.511826</td>\n",
       "      <td>0</td>\n",
       "      <td>...</td>\n",
       "      <td>0</td>\n",
       "      <td>0</td>\n",
       "      <td>0</td>\n",
       "      <td>0</td>\n",
       "      <td>0</td>\n",
       "      <td>0</td>\n",
       "      <td>0</td>\n",
       "      <td>0</td>\n",
       "      <td>0</td>\n",
       "      <td>1</td>\n",
       "    </tr>\n",
       "    <tr>\n",
       "      <th>1</th>\n",
       "      <td>0.065086</td>\n",
       "      <td>-0.237162</td>\n",
       "      <td>-0.452928</td>\n",
       "      <td>-0.277643</td>\n",
       "      <td>-0.593503</td>\n",
       "      <td>-0.580772</td>\n",
       "      <td>-0.387205</td>\n",
       "      <td>-0.575046</td>\n",
       "      <td>0.402105</td>\n",
       "      <td>0</td>\n",
       "      <td>...</td>\n",
       "      <td>0</td>\n",
       "      <td>0</td>\n",
       "      <td>0</td>\n",
       "      <td>0</td>\n",
       "      <td>0</td>\n",
       "      <td>0</td>\n",
       "      <td>0</td>\n",
       "      <td>0</td>\n",
       "      <td>0</td>\n",
       "      <td>0</td>\n",
       "    </tr>\n",
       "    <tr>\n",
       "      <th>2</th>\n",
       "      <td>0.065086</td>\n",
       "      <td>0.398428</td>\n",
       "      <td>-0.452928</td>\n",
       "      <td>-0.277643</td>\n",
       "      <td>-0.710031</td>\n",
       "      <td>-0.651614</td>\n",
       "      <td>-0.387205</td>\n",
       "      <td>-0.083877</td>\n",
       "      <td>-0.511826</td>\n",
       "      <td>0</td>\n",
       "      <td>...</td>\n",
       "      <td>0</td>\n",
       "      <td>0</td>\n",
       "      <td>0</td>\n",
       "      <td>0</td>\n",
       "      <td>0</td>\n",
       "      <td>0</td>\n",
       "      <td>0</td>\n",
       "      <td>0</td>\n",
       "      <td>0</td>\n",
       "      <td>1</td>\n",
       "    </tr>\n",
       "    <tr>\n",
       "      <th>3</th>\n",
       "      <td>-0.794321</td>\n",
       "      <td>-0.534445</td>\n",
       "      <td>-0.452928</td>\n",
       "      <td>-0.277643</td>\n",
       "      <td>-0.729452</td>\n",
       "      <td>-0.717272</td>\n",
       "      <td>4.735834</td>\n",
       "      <td>4.091059</td>\n",
       "      <td>-0.511826</td>\n",
       "      <td>0</td>\n",
       "      <td>...</td>\n",
       "      <td>0</td>\n",
       "      <td>0</td>\n",
       "      <td>0</td>\n",
       "      <td>0</td>\n",
       "      <td>0</td>\n",
       "      <td>0</td>\n",
       "      <td>0</td>\n",
       "      <td>0</td>\n",
       "      <td>0</td>\n",
       "      <td>1</td>\n",
       "    </tr>\n",
       "    <tr>\n",
       "      <th>4</th>\n",
       "      <td>-0.507852</td>\n",
       "      <td>-0.371473</td>\n",
       "      <td>-0.452928</td>\n",
       "      <td>-0.277643</td>\n",
       "      <td>-0.263342</td>\n",
       "      <td>-0.530413</td>\n",
       "      <td>-0.387205</td>\n",
       "      <td>-0.718304</td>\n",
       "      <td>-0.511826</td>\n",
       "      <td>0</td>\n",
       "      <td>...</td>\n",
       "      <td>0</td>\n",
       "      <td>0</td>\n",
       "      <td>0</td>\n",
       "      <td>0</td>\n",
       "      <td>0</td>\n",
       "      <td>0</td>\n",
       "      <td>0</td>\n",
       "      <td>0</td>\n",
       "      <td>0</td>\n",
       "      <td>0</td>\n",
       "    </tr>\n",
       "  </tbody>\n",
       "</table>\n",
       "<p>5 rows × 68 columns</p>\n",
       "</div>"
      ],
      "text/plain": [
       "   Administrative  Administrative_Duration  Informational  \\\n",
       "0        0.924493                 0.005048       3.994002   \n",
       "1        0.065086                -0.237162      -0.452928   \n",
       "2        0.065086                 0.398428      -0.452928   \n",
       "3       -0.794321                -0.534445      -0.452928   \n",
       "4       -0.507852                -0.371473      -0.452928   \n",
       "\n",
       "   Informational_Duration  ProductRelated  ProductRelated_Duration  \\\n",
       "0                1.301288       -0.438133                -0.589386   \n",
       "1               -0.277643       -0.593503                -0.580772   \n",
       "2               -0.277643       -0.710031                -0.651614   \n",
       "3               -0.277643       -0.729452                -0.717272   \n",
       "4               -0.277643       -0.263342                -0.530413   \n",
       "\n",
       "   BounceRates  ExitRates  PageValues  SpecialDay_0.2  ...  TrafficType_11  \\\n",
       "0    -0.058805  -0.087026   -0.511826               0  ...               0   \n",
       "1    -0.387205  -0.575046    0.402105               0  ...               0   \n",
       "2    -0.387205  -0.083877   -0.511826               0  ...               0   \n",
       "3     4.735834   4.091059   -0.511826               0  ...               0   \n",
       "4    -0.387205  -0.718304   -0.511826               0  ...               0   \n",
       "\n",
       "   TrafficType_13  TrafficType_14  TrafficType_15  TrafficType_16  \\\n",
       "0               0               0               0               0   \n",
       "1               0               0               0               0   \n",
       "2               0               0               0               0   \n",
       "3               0               0               0               0   \n",
       "4               0               0               0               0   \n",
       "\n",
       "   TrafficType_18  TrafficType_19  TrafficType_20  VisitorType_Other  \\\n",
       "0               0               0               0                  0   \n",
       "1               0               0               0                  0   \n",
       "2               0               0               0                  0   \n",
       "3               0               0               0                  0   \n",
       "4               0               0               0                  0   \n",
       "\n",
       "   VisitorType_Returning_Visitor  \n",
       "0                              1  \n",
       "1                              0  \n",
       "2                              1  \n",
       "3                              1  \n",
       "4                              0  \n",
       "\n",
       "[5 rows x 68 columns]"
      ]
     },
     "execution_count": 59,
     "metadata": {},
     "output_type": "execute_result"
    }
   ],
   "source": [
    "X = pd.concat([scaled,encoded],axis = 1)\n",
    "X.head()"
   ]
  },
  {
   "cell_type": "code",
   "execution_count": 60,
   "id": "74c9c623",
   "metadata": {},
   "outputs": [],
   "source": [
    "xtrain,xtest,ytrain,ytest = train_test_split(X,target, train_size = 0.3,random_state = 0)"
   ]
  },
  {
   "cell_type": "code",
   "execution_count": 61,
   "id": "ea264754",
   "metadata": {
    "scrolled": true
   },
   "outputs": [
    {
     "name": "stdout",
     "output_type": "stream",
     "text": [
      "3 \n",
      " [[1104  419]\n",
      " [ 526 1004]]\n",
      "\n",
      "               precision    recall  f1-score   support\n",
      "\n",
      "           0       0.68      0.72      0.70      1523\n",
      "           1       0.71      0.66      0.68      1530\n",
      "\n",
      "    accuracy                           0.69      3053\n",
      "   macro avg       0.69      0.69      0.69      3053\n",
      "weighted avg       0.69      0.69      0.69      3053\n",
      "\n",
      "4 \n",
      " [[1170  353]\n",
      " [ 532  998]]\n",
      "\n",
      "               precision    recall  f1-score   support\n",
      "\n",
      "           0       0.69      0.77      0.73      1523\n",
      "           1       0.74      0.65      0.69      1530\n",
      "\n",
      "    accuracy                           0.71      3053\n",
      "   macro avg       0.71      0.71      0.71      3053\n",
      "weighted avg       0.71      0.71      0.71      3053\n",
      "\n",
      "5 \n",
      " [[1274  249]\n",
      " [ 386 1144]]\n",
      "\n",
      "               precision    recall  f1-score   support\n",
      "\n",
      "           0       0.77      0.84      0.80      1523\n",
      "           1       0.82      0.75      0.78      1530\n",
      "\n",
      "    accuracy                           0.79      3053\n",
      "   macro avg       0.79      0.79      0.79      3053\n",
      "weighted avg       0.79      0.79      0.79      3053\n",
      "\n",
      "6 \n",
      " [[1274  249]\n",
      " [ 388 1142]]\n",
      "\n",
      "               precision    recall  f1-score   support\n",
      "\n",
      "           0       0.77      0.84      0.80      1523\n",
      "           1       0.82      0.75      0.78      1530\n",
      "\n",
      "    accuracy                           0.79      3053\n",
      "   macro avg       0.79      0.79      0.79      3053\n",
      "weighted avg       0.79      0.79      0.79      3053\n",
      "\n",
      "7 \n",
      " [[1279  244]\n",
      " [ 385 1145]]\n",
      "\n",
      "               precision    recall  f1-score   support\n",
      "\n",
      "           0       0.77      0.84      0.80      1523\n",
      "           1       0.82      0.75      0.78      1530\n",
      "\n",
      "    accuracy                           0.79      3053\n",
      "   macro avg       0.80      0.79      0.79      3053\n",
      "weighted avg       0.80      0.79      0.79      3053\n",
      "\n",
      "8 \n",
      " [[1271  252]\n",
      " [ 370 1160]]\n",
      "\n",
      "               precision    recall  f1-score   support\n",
      "\n",
      "           0       0.77      0.83      0.80      1523\n",
      "           1       0.82      0.76      0.79      1530\n",
      "\n",
      "    accuracy                           0.80      3053\n",
      "   macro avg       0.80      0.80      0.80      3053\n",
      "weighted avg       0.80      0.80      0.80      3053\n",
      "\n",
      "9 \n",
      " [[1268  255]\n",
      " [ 365 1165]]\n",
      "\n",
      "               precision    recall  f1-score   support\n",
      "\n",
      "           0       0.78      0.83      0.80      1523\n",
      "           1       0.82      0.76      0.79      1530\n",
      "\n",
      "    accuracy                           0.80      3053\n",
      "   macro avg       0.80      0.80      0.80      3053\n",
      "weighted avg       0.80      0.80      0.80      3053\n",
      "\n",
      "10 \n",
      " [[1254  269]\n",
      " [ 363 1167]]\n",
      "\n",
      "               precision    recall  f1-score   support\n",
      "\n",
      "           0       0.78      0.82      0.80      1523\n",
      "           1       0.81      0.76      0.79      1530\n",
      "\n",
      "    accuracy                           0.79      3053\n",
      "   macro avg       0.79      0.79      0.79      3053\n",
      "weighted avg       0.79      0.79      0.79      3053\n",
      "\n"
     ]
    }
   ],
   "source": [
    "for i in range(3,11):\n",
    "    pca = PCA(n_components = i, random_state = 0)\n",
    "    pca_da = pca.fit_transform(X)\n",
    "    xtrain,xtest, ytrain,ytest = train_test_split(pca_da,target,train_size = 0.2, random_state = 0)\n",
    "    rf = RandomForestClassifier()\n",
    "    pred = rf.fit(xtrain,ytrain).predict(xtest)\n",
    "    print(i, '\\n', confusion_matrix(ytest,pred))\n",
    "    print('\\n', classification_report(ytest,pred))"
   ]
  },
  {
   "cell_type": "markdown",
   "id": "ddfed43b",
   "metadata": {},
   "source": [
    "Interpretation :\n",
    "1. We can clearly see that for a basic random forest model without even tuning our results have improved a lot when we had a balanced dataset. Recall, Precsion score have shown a major \n",
    "improvement when we took a balanced dataset.\n",
    "2. Looking at the confusion matrix we can see our our false negatives have reduced a lot, which is a very good sign."
   ]
  },
  {
   "cell_type": "code",
   "execution_count": 1,
   "id": "369c66c9",
   "metadata": {},
   "outputs": [
    {
     "data": {
      "text/plain": [
       "'ihled ni evil i '"
      ]
     },
     "execution_count": 1,
     "metadata": {},
     "output_type": "execute_result"
    }
   ],
   "source": [
    "a=' i live in delhi'\n",
    "a[::-1]"
   ]
  },
  {
   "cell_type": "code",
   "execution_count": 1,
   "id": "9fb82fa3",
   "metadata": {},
   "outputs": [],
   "source": [
    "fruits = [\"apple\", \"banana\", \"cherry\"]\n"
   ]
  },
  {
   "cell_type": "code",
   "execution_count": 5,
   "id": "f8bfdab0",
   "metadata": {},
   "outputs": [],
   "source": [
    "fruits.remove(\"banana\")"
   ]
  },
  {
   "cell_type": "code",
   "execution_count": 8,
   "id": "45384e8b",
   "metadata": {},
   "outputs": [
    {
     "ename": "SyntaxError",
     "evalue": "invalid syntax (Temp/ipykernel_10396/2463997707.py, line 4)",
     "output_type": "error",
     "traceback": [
      "\u001b[1;36m  File \u001b[1;32m\"C:\\Users\\yaman\\AppData\\Local\\Temp/ipykernel_10396/2463997707.py\"\u001b[1;36m, line \u001b[1;32m4\u001b[0m\n\u001b[1;33m    if x==str('banana')\u001b[0m\n\u001b[1;37m                       ^\u001b[0m\n\u001b[1;31mSyntaxError\u001b[0m\u001b[1;31m:\u001b[0m invalid syntax\n"
     ]
    }
   ],
   "source": [
    "\n",
    "def fruits(x):\n",
    "    for i in x:\n",
    "        i=i+1\n",
    "        if x=='banana'\n",
    "        print(i)"
   ]
  }
 ],
 "metadata": {
  "kernelspec": {
   "display_name": "Python 3 (ipykernel)",
   "language": "python",
   "name": "python3"
  },
  "language_info": {
   "codemirror_mode": {
    "name": "ipython",
    "version": 3
   },
   "file_extension": ".py",
   "mimetype": "text/x-python",
   "name": "python",
   "nbconvert_exporter": "python",
   "pygments_lexer": "ipython3",
   "version": "3.9.7"
  }
 },
 "nbformat": 4,
 "nbformat_minor": 5
}
